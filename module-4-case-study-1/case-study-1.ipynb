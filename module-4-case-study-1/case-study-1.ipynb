{
 "cells": [
  {
   "cell_type": "markdown",
   "metadata": {
    "id": "40bZuxsQnQKv"
   },
   "source": [
    "# <font color='white'>Data Sciente Academy</font>\n",
    "## <font color='white'>Generative AI and LLMs for Natural Language Processing</font>\n",
    "## <font color='white'>Study Case 1 - LLM for text generation - GPT-2-Large written in Python</font>"
   ]
  },
  {
   "cell_type": "markdown",
   "metadata": {},
   "source": [
    "---"
   ]
  },
  {
   "cell_type": "markdown",
   "metadata": {
    "id": "wJTMqDognQKy"
   },
   "source": [
    "## Instalando e Carregando Pacotes"
   ]
  },
  {
   "cell_type": "code",
   "execution_count": null,
   "metadata": {
    "colab": {
     "base_uri": "https://localhost:8080/"
    },
    "id": "r57wAMPLnQKy",
    "outputId": "38bda5a1-d101-4980-bd9c-95490276e831"
   },
   "outputs": [
    {
     "name": "stdout",
     "output_type": "stream",
     "text": [
      "Note: you may need to restart the kernel to use updated packages.\n"
     ]
    }
   ],
   "source": [
    "\"\"\"watermark allows to create a \"watermark\" with the current date and time, the version of Python, and the version of the Jupyter notebook.\n",
    "It is useful for keeping track of the version of the notebook and the environment in which it was run.\n",
    "This is useful for reproducibility and for sharing the notebook with others.\n",
    "-q is for quiet mode, which suppresses output messages.\n",
    "-U is for upgrade, which upgrades the package to the latest version.\"\"\"\n",
    "%pip install -q -U watermark"
   ]
  },
  {
   "cell_type": "code",
   "execution_count": null,
   "metadata": {
    "id": "cnCFqnQDnQKz"
   },
   "outputs": [
    {
     "name": "stdout",
     "output_type": "stream",
     "text": [
      "Collecting tensorflow==2.19.0\n",
      "  Downloading tensorflow-2.19.0-cp312-cp312-win_amd64.whl.metadata (4.1 kB)\n",
      "Collecting absl-py>=1.0.0 (from tensorflow==2.19.0)\n",
      "  Downloading absl_py-2.2.1-py3-none-any.whl.metadata (2.4 kB)\n",
      "Collecting astunparse>=1.6.0 (from tensorflow==2.19.0)\n",
      "  Downloading astunparse-1.6.3-py2.py3-none-any.whl.metadata (4.4 kB)\n",
      "Collecting flatbuffers>=24.3.25 (from tensorflow==2.19.0)\n",
      "  Downloading flatbuffers-25.2.10-py2.py3-none-any.whl.metadata (875 bytes)\n",
      "Collecting gast!=0.5.0,!=0.5.1,!=0.5.2,>=0.2.1 (from tensorflow==2.19.0)\n",
      "  Downloading gast-0.6.0-py3-none-any.whl.metadata (1.3 kB)\n",
      "Collecting google-pasta>=0.1.1 (from tensorflow==2.19.0)\n",
      "  Downloading google_pasta-0.2.0-py3-none-any.whl.metadata (814 bytes)\n",
      "Collecting libclang>=13.0.0 (from tensorflow==2.19.0)\n",
      "  Downloading libclang-18.1.1-py2.py3-none-win_amd64.whl.metadata (5.3 kB)\n",
      "Collecting opt-einsum>=2.3.2 (from tensorflow==2.19.0)\n",
      "  Downloading opt_einsum-3.4.0-py3-none-any.whl.metadata (6.3 kB)\n",
      "Requirement already satisfied: packaging in c:\\users\\lucas\\anaconda3\\lib\\site-packages (from tensorflow==2.19.0) (24.1)\n",
      "Requirement already satisfied: protobuf!=4.21.0,!=4.21.1,!=4.21.2,!=4.21.3,!=4.21.4,!=4.21.5,<6.0.0dev,>=3.20.3 in c:\\users\\lucas\\anaconda3\\lib\\site-packages (from tensorflow==2.19.0) (4.25.3)\n",
      "Requirement already satisfied: requests<3,>=2.21.0 in c:\\users\\lucas\\anaconda3\\lib\\site-packages (from tensorflow==2.19.0) (2.32.3)\n",
      "Requirement already satisfied: setuptools in c:\\users\\lucas\\anaconda3\\lib\\site-packages (from tensorflow==2.19.0) (75.1.0)\n",
      "Requirement already satisfied: six>=1.12.0 in c:\\users\\lucas\\anaconda3\\lib\\site-packages (from tensorflow==2.19.0) (1.16.0)\n",
      "Collecting termcolor>=1.1.0 (from tensorflow==2.19.0)\n",
      "  Downloading termcolor-2.5.0-py3-none-any.whl.metadata (6.1 kB)\n",
      "Requirement already satisfied: typing-extensions>=3.6.6 in c:\\users\\lucas\\anaconda3\\lib\\site-packages (from tensorflow==2.19.0) (4.11.0)\n",
      "Requirement already satisfied: wrapt>=1.11.0 in c:\\users\\lucas\\anaconda3\\lib\\site-packages (from tensorflow==2.19.0) (1.14.1)\n",
      "Collecting grpcio<2.0,>=1.24.3 (from tensorflow==2.19.0)\n",
      "  Downloading grpcio-1.71.0-cp312-cp312-win_amd64.whl.metadata (4.0 kB)\n",
      "Collecting tensorboard~=2.19.0 (from tensorflow==2.19.0)\n",
      "  Downloading tensorboard-2.19.0-py3-none-any.whl.metadata (1.8 kB)\n",
      "Collecting keras>=3.5.0 (from tensorflow==2.19.0)\n",
      "  Downloading keras-3.9.1-py3-none-any.whl.metadata (6.1 kB)\n",
      "Requirement already satisfied: numpy<2.2.0,>=1.26.0 in c:\\users\\lucas\\anaconda3\\lib\\site-packages (from tensorflow==2.19.0) (1.26.4)\n",
      "Requirement already satisfied: h5py>=3.11.0 in c:\\users\\lucas\\anaconda3\\lib\\site-packages (from tensorflow==2.19.0) (3.11.0)\n",
      "Collecting ml-dtypes<1.0.0,>=0.5.1 (from tensorflow==2.19.0)\n",
      "  Downloading ml_dtypes-0.5.1-cp312-cp312-win_amd64.whl.metadata (22 kB)\n",
      "Requirement already satisfied: wheel<1.0,>=0.23.0 in c:\\users\\lucas\\anaconda3\\lib\\site-packages (from astunparse>=1.6.0->tensorflow==2.19.0) (0.44.0)\n",
      "Requirement already satisfied: rich in c:\\users\\lucas\\anaconda3\\lib\\site-packages (from keras>=3.5.0->tensorflow==2.19.0) (13.7.1)\n",
      "Collecting namex (from keras>=3.5.0->tensorflow==2.19.0)\n",
      "  Downloading namex-0.0.8-py3-none-any.whl.metadata (246 bytes)\n",
      "Collecting optree (from keras>=3.5.0->tensorflow==2.19.0)\n",
      "  Downloading optree-0.14.1-cp312-cp312-win_amd64.whl.metadata (50 kB)\n",
      "Requirement already satisfied: charset-normalizer<4,>=2 in c:\\users\\lucas\\anaconda3\\lib\\site-packages (from requests<3,>=2.21.0->tensorflow==2.19.0) (3.3.2)\n",
      "Requirement already satisfied: idna<4,>=2.5 in c:\\users\\lucas\\anaconda3\\lib\\site-packages (from requests<3,>=2.21.0->tensorflow==2.19.0) (3.7)\n",
      "Requirement already satisfied: urllib3<3,>=1.21.1 in c:\\users\\lucas\\anaconda3\\lib\\site-packages (from requests<3,>=2.21.0->tensorflow==2.19.0) (2.2.3)\n",
      "Requirement already satisfied: certifi>=2017.4.17 in c:\\users\\lucas\\anaconda3\\lib\\site-packages (from requests<3,>=2.21.0->tensorflow==2.19.0) (2024.8.30)\n",
      "Requirement already satisfied: markdown>=2.6.8 in c:\\users\\lucas\\anaconda3\\lib\\site-packages (from tensorboard~=2.19.0->tensorflow==2.19.0) (3.4.1)\n",
      "Collecting tensorboard-data-server<0.8.0,>=0.7.0 (from tensorboard~=2.19.0->tensorflow==2.19.0)\n",
      "  Downloading tensorboard_data_server-0.7.2-py3-none-any.whl.metadata (1.1 kB)\n",
      "Requirement already satisfied: werkzeug>=1.0.1 in c:\\users\\lucas\\anaconda3\\lib\\site-packages (from tensorboard~=2.19.0->tensorflow==2.19.0) (3.0.3)\n",
      "Requirement already satisfied: MarkupSafe>=2.1.1 in c:\\users\\lucas\\anaconda3\\lib\\site-packages (from werkzeug>=1.0.1->tensorboard~=2.19.0->tensorflow==2.19.0) (2.1.3)\n",
      "Requirement already satisfied: markdown-it-py>=2.2.0 in c:\\users\\lucas\\anaconda3\\lib\\site-packages (from rich->keras>=3.5.0->tensorflow==2.19.0) (2.2.0)\n",
      "Requirement already satisfied: pygments<3.0.0,>=2.13.0 in c:\\users\\lucas\\anaconda3\\lib\\site-packages (from rich->keras>=3.5.0->tensorflow==2.19.0) (2.15.1)\n",
      "Requirement already satisfied: mdurl~=0.1 in c:\\users\\lucas\\anaconda3\\lib\\site-packages (from markdown-it-py>=2.2.0->rich->keras>=3.5.0->tensorflow==2.19.0) (0.1.0)\n",
      "Downloading tensorflow-2.19.0-cp312-cp312-win_amd64.whl (376.0 MB)\n",
      "   ---------------------------------------- 0.0/376.0 MB ? eta -:--:--\n",
      "   ---------------------------------------- 4.2/376.0 MB 22.9 MB/s eta 0:00:17\n",
      "   - -------------------------------------- 9.7/376.0 MB 25.2 MB/s eta 0:00:15\n",
      "   - -------------------------------------- 14.7/376.0 MB 24.3 MB/s eta 0:00:15\n",
      "   -- ------------------------------------- 18.9/376.0 MB 23.4 MB/s eta 0:00:16\n",
      "   -- ------------------------------------- 24.1/376.0 MB 23.9 MB/s eta 0:00:15\n",
      "   --- ------------------------------------ 29.6/376.0 MB 24.4 MB/s eta 0:00:15\n",
      "   --- ------------------------------------ 35.9/376.0 MB 25.1 MB/s eta 0:00:14\n",
      "   ---- ----------------------------------- 42.2/376.0 MB 25.6 MB/s eta 0:00:14\n",
      "   ----- ---------------------------------- 47.7/376.0 MB 25.7 MB/s eta 0:00:13\n",
      "   ----- ---------------------------------- 52.7/376.0 MB 25.8 MB/s eta 0:00:13\n",
      "   ------ --------------------------------- 58.2/376.0 MB 25.6 MB/s eta 0:00:13\n",
      "   ------ --------------------------------- 63.2/376.0 MB 25.5 MB/s eta 0:00:13\n",
      "   ------- -------------------------------- 68.4/376.0 MB 25.5 MB/s eta 0:00:13\n",
      "   ------- -------------------------------- 73.4/376.0 MB 25.3 MB/s eta 0:00:12\n",
      "   -------- ------------------------------- 78.1/376.0 MB 25.0 MB/s eta 0:00:12\n",
      "   -------- ------------------------------- 83.1/376.0 MB 25.0 MB/s eta 0:00:12\n",
      "   --------- ------------------------------ 88.3/376.0 MB 24.9 MB/s eta 0:00:12\n",
      "   --------- ------------------------------ 93.6/376.0 MB 25.0 MB/s eta 0:00:12\n",
      "   ---------- ----------------------------- 98.8/376.0 MB 24.9 MB/s eta 0:00:12\n",
      "   ---------- ---------------------------- 104.6/376.0 MB 25.0 MB/s eta 0:00:11\n",
      "   ----------- --------------------------- 108.8/376.0 MB 24.9 MB/s eta 0:00:11\n",
      "   ----------- --------------------------- 112.2/376.0 MB 24.5 MB/s eta 0:00:11\n",
      "   ------------ -------------------------- 116.4/376.0 MB 24.4 MB/s eta 0:00:11\n",
      "   ------------ -------------------------- 121.6/376.0 MB 24.3 MB/s eta 0:00:11\n",
      "   ------------- ------------------------- 125.8/376.0 MB 24.1 MB/s eta 0:00:11\n",
      "   ------------- ------------------------- 131.1/376.0 MB 24.1 MB/s eta 0:00:11\n",
      "   -------------- ------------------------ 136.6/376.0 MB 24.2 MB/s eta 0:00:10\n",
      "   -------------- ------------------------ 141.6/376.0 MB 24.2 MB/s eta 0:00:10\n",
      "   --------------- ----------------------- 147.1/376.0 MB 24.3 MB/s eta 0:00:10\n",
      "   --------------- ----------------------- 153.4/376.0 MB 24.4 MB/s eta 0:00:10\n",
      "   ---------------- ---------------------- 160.7/376.0 MB 24.7 MB/s eta 0:00:09\n",
      "   ----------------- --------------------- 165.7/376.0 MB 24.7 MB/s eta 0:00:09\n",
      "   ----------------- --------------------- 170.9/376.0 MB 24.7 MB/s eta 0:00:09\n",
      "   ------------------ -------------------- 176.2/376.0 MB 24.7 MB/s eta 0:00:09\n",
      "   ------------------ -------------------- 180.6/376.0 MB 24.7 MB/s eta 0:00:08\n",
      "   ------------------- ------------------- 186.1/376.0 MB 24.7 MB/s eta 0:00:08\n",
      "   ------------------- ------------------- 191.4/376.0 MB 24.7 MB/s eta 0:00:08\n",
      "   -------------------- ------------------ 196.6/376.0 MB 24.7 MB/s eta 0:00:08\n",
      "   -------------------- ------------------ 201.3/376.0 MB 24.6 MB/s eta 0:00:08\n",
      "   --------------------- ----------------- 206.8/376.0 MB 24.7 MB/s eta 0:00:07\n",
      "   ---------------------- ---------------- 213.1/376.0 MB 24.8 MB/s eta 0:00:07\n",
      "   ---------------------- ---------------- 218.4/376.0 MB 24.8 MB/s eta 0:00:07\n",
      "   ----------------------- --------------- 221.8/376.0 MB 24.9 MB/s eta 0:00:07\n",
      "   ----------------------- --------------- 227.3/376.0 MB 24.7 MB/s eta 0:00:07\n",
      "   ------------------------ -------------- 232.8/376.0 MB 24.7 MB/s eta 0:00:06\n",
      "   ------------------------ -------------- 238.0/376.0 MB 24.7 MB/s eta 0:00:06\n",
      "   ------------------------- ------------- 243.3/376.0 MB 24.7 MB/s eta 0:00:06\n",
      "   ------------------------- ------------- 248.3/376.0 MB 24.7 MB/s eta 0:00:06\n",
      "   -------------------------- ------------ 253.2/376.0 MB 24.7 MB/s eta 0:00:05\n",
      "   -------------------------- ------------ 259.3/376.0 MB 24.8 MB/s eta 0:00:05\n",
      "   --------------------------- ----------- 264.8/376.0 MB 24.8 MB/s eta 0:00:05\n",
      "   ---------------------------- ---------- 270.3/376.0 MB 24.8 MB/s eta 0:00:05\n",
      "   ---------------------------- ---------- 275.3/376.0 MB 24.8 MB/s eta 0:00:05\n",
      "   ----------------------------- --------- 280.2/376.0 MB 24.9 MB/s eta 0:00:04\n",
      "   ----------------------------- --------- 284.4/376.0 MB 24.8 MB/s eta 0:00:04\n",
      "   ----------------------------- --------- 288.9/376.0 MB 24.7 MB/s eta 0:00:04\n",
      "   ------------------------------ -------- 293.9/376.0 MB 24.6 MB/s eta 0:00:04\n",
      "   ------------------------------ -------- 298.6/376.0 MB 24.5 MB/s eta 0:00:04\n",
      "   ------------------------------- ------- 304.1/376.0 MB 24.5 MB/s eta 0:00:03\n",
      "   -------------------------------- ------ 309.6/376.0 MB 24.4 MB/s eta 0:00:03\n",
      "   -------------------------------- ------ 314.8/376.0 MB 24.5 MB/s eta 0:00:03\n",
      "   --------------------------------- ----- 320.1/376.0 MB 24.4 MB/s eta 0:00:03\n",
      "   --------------------------------- ----- 325.3/376.0 MB 24.4 MB/s eta 0:00:03\n",
      "   ---------------------------------- ---- 330.6/376.0 MB 24.5 MB/s eta 0:00:02\n",
      "   ---------------------------------- ---- 335.8/376.0 MB 24.5 MB/s eta 0:00:02\n",
      "   ----------------------------------- --- 340.5/376.0 MB 24.5 MB/s eta 0:00:02\n",
      "   ----------------------------------- --- 345.0/376.0 MB 24.4 MB/s eta 0:00:02\n",
      "   ------------------------------------ -- 348.9/376.0 MB 24.4 MB/s eta 0:00:02\n",
      "   ------------------------------------ -- 353.4/376.0 MB 24.3 MB/s eta 0:00:01\n",
      "   ------------------------------------- - 357.8/376.0 MB 24.2 MB/s eta 0:00:01\n",
      "   ------------------------------------- - 362.3/376.0 MB 24.1 MB/s eta 0:00:01\n",
      "   --------------------------------------  367.0/376.0 MB 24.1 MB/s eta 0:00:01\n",
      "   --------------------------------------  372.2/376.0 MB 24.3 MB/s eta 0:00:01\n",
      "   --------------------------------------  375.9/376.0 MB 24.4 MB/s eta 0:00:01\n",
      "   --------------------------------------  375.9/376.0 MB 24.4 MB/s eta 0:00:01\n",
      "   --------------------------------------  375.9/376.0 MB 24.4 MB/s eta 0:00:01\n",
      "   --------------------------------------- 376.0/376.0 MB 23.0 MB/s eta 0:00:00\n",
      "Downloading absl_py-2.2.1-py3-none-any.whl (277 kB)\n",
      "Downloading astunparse-1.6.3-py2.py3-none-any.whl (12 kB)\n",
      "Downloading flatbuffers-25.2.10-py2.py3-none-any.whl (30 kB)\n",
      "Downloading gast-0.6.0-py3-none-any.whl (21 kB)\n",
      "Downloading google_pasta-0.2.0-py3-none-any.whl (57 kB)\n",
      "Downloading grpcio-1.71.0-cp312-cp312-win_amd64.whl (4.3 MB)\n",
      "   ---------------------------------------- 0.0/4.3 MB ? eta -:--:--\n",
      "   ------------------------------- -------- 3.4/4.3 MB 20.2 MB/s eta 0:00:01\n",
      "   ---------------------------------------- 4.3/4.3 MB 19.8 MB/s eta 0:00:00\n",
      "Downloading keras-3.9.1-py3-none-any.whl (1.3 MB)\n",
      "   ---------------------------------------- 0.0/1.3 MB ? eta -:--:--\n",
      "   ---------------------------------------- 1.3/1.3 MB 17.1 MB/s eta 0:00:00\n",
      "Downloading libclang-18.1.1-py2.py3-none-win_amd64.whl (26.4 MB)\n",
      "   ---------------------------------------- 0.0/26.4 MB ? eta -:--:--\n",
      "   -------- ------------------------------- 5.5/26.4 MB 25.8 MB/s eta 0:00:01\n",
      "   ---------------- ----------------------- 11.0/26.4 MB 26.5 MB/s eta 0:00:01\n",
      "   ------------------------- -------------- 16.8/26.4 MB 27.1 MB/s eta 0:00:01\n",
      "   --------------------------------- ------ 22.3/26.4 MB 26.6 MB/s eta 0:00:01\n",
      "   ---------------------------------------  26.2/26.4 MB 26.0 MB/s eta 0:00:01\n",
      "   ---------------------------------------- 26.4/26.4 MB 24.6 MB/s eta 0:00:00\n",
      "Downloading ml_dtypes-0.5.1-cp312-cp312-win_amd64.whl (210 kB)\n",
      "Downloading opt_einsum-3.4.0-py3-none-any.whl (71 kB)\n",
      "Downloading tensorboard-2.19.0-py3-none-any.whl (5.5 MB)\n",
      "   ---------------------------------------- 0.0/5.5 MB ? eta -:--:--\n",
      "   ---------------------------------- ----- 4.7/5.5 MB 23.7 MB/s eta 0:00:01\n",
      "   ---------------------------------------- 5.5/5.5 MB 22.4 MB/s eta 0:00:00\n",
      "Downloading termcolor-2.5.0-py3-none-any.whl (7.8 kB)\n",
      "Downloading tensorboard_data_server-0.7.2-py3-none-any.whl (2.4 kB)\n",
      "Downloading namex-0.0.8-py3-none-any.whl (5.8 kB)\n",
      "Downloading optree-0.14.1-cp312-cp312-win_amd64.whl (306 kB)\n",
      "Installing collected packages: namex, libclang, flatbuffers, termcolor, tensorboard-data-server, optree, opt-einsum, ml-dtypes, grpcio, google-pasta, gast, astunparse, absl-py, tensorboard, keras, tensorflow\n",
      "Successfully installed absl-py-2.2.1 astunparse-1.6.3 flatbuffers-25.2.10 gast-0.6.0 google-pasta-0.2.0 grpcio-1.71.0 keras-3.9.1 libclang-18.1.1 ml-dtypes-0.5.1 namex-0.0.8 opt-einsum-3.4.0 optree-0.14.1 tensorboard-2.19.0 tensorboard-data-server-0.7.2 tensorflow-2.19.0 termcolor-2.5.0\n",
      "Note: you may need to restart the kernel to use updated packages.\n"
     ]
    }
   ],
   "source": [
    "\"\"\"tensorflow is a library for machine learning and deep learning. \n",
    "It contains functions and classes for building and training neural networks including, \n",
    "convolutional neural networks (CNNs), recurrent neural networks (RNNs) and transformer architecture.\"\"\"\n",
    "%pip install tensorflow==2.19.0"
   ]
  },
  {
   "cell_type": "code",
   "execution_count": null,
   "metadata": {
    "id": "xMImzYVOnQKz"
   },
   "outputs": [
    {
     "name": "stdout",
     "output_type": "stream",
     "text": [
      "Note: you may need to restart the kernel to use updated packages.\n"
     ]
    }
   ],
   "source": [
    "\"\"\" A biblioteca Transformers do Python, criada pela Hugging Face, fornece ferramentas para uso simplificado de modelos de inteligência artificial\n",
    "baseados em transformers. É usada principalmente em NLP para tarefas como geração de texto, classificação, tradução e análise de sentimentos. \n",
    "Permite fácil integração de modelos pré-treinados, acelerando o desenvolvimento de soluções avançadas. \"\"\"\n",
    "%pip install -q -U transformers==4.50.3"
   ]
  },
  {
   "cell_type": "code",
   "execution_count": 24,
   "metadata": {},
   "outputs": [
    {
     "name": "stdout",
     "output_type": "stream",
     "text": [
      "Note: you may need to restart the kernel to use updated packages.\n"
     ]
    }
   ],
   "source": [
    "%pip install -q -U torch"
   ]
  },
  {
   "cell_type": "markdown",
   "metadata": {
    "id": "MonITO7eqKTF"
   },
   "source": [
    "https://huggingface.co/"
   ]
  },
  {
   "cell_type": "code",
   "execution_count": 31,
   "metadata": {
    "id": "nkpV0yY3nQKz"
   },
   "outputs": [],
   "source": [
    "# Imports\n",
    "import tensorflow as tf\n",
    "import torch\n",
    "import transformers\n",
    "from transformers import GPT2LMHeadModel, GPT2Tokenizer"
   ]
  },
  {
   "cell_type": "code",
   "execution_count": 15,
   "metadata": {
    "colab": {
     "base_uri": "https://localhost:8080/"
    },
    "id": "Fc226qJ5nQK0",
    "outputId": "4aad14fb-f082-469d-839c-6d8fe0b9dabd"
   },
   "outputs": [
    {
     "name": "stdout",
     "output_type": "stream",
     "text": [
      "Author: Lucas P. Lira\n",
      "\n"
     ]
    }
   ],
   "source": [
    "%reload_ext watermark\n",
    "%watermark -a \"Lucas P. Lira\""
   ]
  },
  {
   "cell_type": "markdown",
   "metadata": {
    "id": "5lzuile_nQK0"
   },
   "source": [
    "<!-- Projeto Desenvolvido na Data Science Academy - www.datascienceacademy.com.br -->\n",
    "\n",
    "## Funções Usadas Para Carregar Um LLM Pré-Treinado\n",
    "\n",
    "**GPT2LMHeadModel**: Esta é a classe modelo para o GPT-2 (Generative Pretrained Transformer 2), um modelo de linguagem poderoso que pode gerar texto semelhante ao humano. A parte 'LMHead' indica que esta variante do modelo inclui um cabeçote de modelagem de linguagem no topo do modelo GPT-2 básico, o que o torna adequado para tarefas como geração de texto.\n",
    "\n",
    "**GPT2Tokenizer**: Este é um tokenizer projetado especificamente para o modelo GPT-2. Um tokenizer é usado para converter texto em um formato que possa ser compreendido e processado pelo modelo. Para GPT-2, isso envolve a conversão de texto em tokens (como palavras ou subpalavras) e a codificação desses tokens como valores numéricos."
   ]
  },
  {
   "cell_type": "markdown",
   "metadata": {
    "id": "BVRSQ_1jnQK1"
   },
   "source": [
    "## Carregando o Tokenizador\n",
    "\n",
    "https://huggingface.co/gpt2-large"
   ]
  },
  {
   "cell_type": "code",
   "execution_count": 32,
   "metadata": {
    "colab": {
     "base_uri": "https://localhost:8080/",
     "height": 145,
     "referenced_widgets": [
      "a72deb9a85b6406cbf0df1787c7eb890",
      "0ba43fd4e04b48819df4771abba3dba5",
      "5b9f8f0108bd4e83ad004e601da4fa3b",
      "86f517349678415d828d0cc2089f2c44",
      "3b906447a8d643958aac8c0479f4ce3d",
      "558e9038475d4ac8850fc0812db4ed48",
      "66530a7bd4784179acb94023adf93f9b",
      "687724302d4b4feb8d9e2a6b58e32cad",
      "cddbe971cfb64ff0bcff2adc248048c3",
      "7f058bab0c0c4216aea22df83cbb7339",
      "088928d55ddf46fab2fd70efd9ddf3b7",
      "0daf1dc6c0b54b83bd46fe2406501431",
      "42156e5a79ad431b9087d54dfa7e8a4c",
      "480904a0db3745ecb3b3299771ff9447",
      "60ae6384731948d38771e17c4d81de30",
      "8b34d18acd094b60b97af30156c0283e",
      "a8016324a8174f898565d0b88c04021e",
      "21443eec609d4a8d89f4de5da57465b9",
      "8394f15754594a39b0044dba387c26aa",
      "713600196e8f46f793f18a2331de27a5",
      "8fa42f6611ca4882a40330bd75539250",
      "5cec5a93b39249b0987d95d45f0f14f8",
      "b2eb2f325bdb41098cb0927917ab624b",
      "8178493bb9c64a88bdca8a57c2cb244d",
      "7a3b5f9d0a374bc39d0584e938e627dd",
      "452b3a1c8360497b862bfe31f515187d",
      "a96cc450c02e4492bd59c90310e92e97",
      "98715dee576146929fd2fa61bd7874b7",
      "8bea153220994a659b5b86ecd2ae240a",
      "3e63318b3ab644908291f79d58957629",
      "9819a806202c465db451e564eac653ea",
      "be05c066a0be4597aefe9bfe7fe82fd2",
      "36cf015391a64ade85a129aadabc5e41",
      "e3a8dc4b941c47f3bc7c39fcf1823268",
      "6593d44bee58439891e9f1ec761c4d47",
      "1d26e8fecd8d4e879dbea021f3149738",
      "e77f3ac47edc4bccb6bf4d17971fa0db",
      "ada820ed4f3742adaade7b15f5070038",
      "113e06543ac24c9e976bac7ba96ee3d5",
      "58522eac2f4b49a2adb90c40ac3595dc",
      "f1240760b5794092817a8941ac688c6a",
      "bbbc5df61a1c44208851f392972a353d",
      "b6781e138a2f49b6974620916971a7b8",
      "4bf6883dd2aa4634b89dfa1043866f95"
     ]
    },
    "id": "IWXSIx89nQK1",
    "outputId": "8dfdd77d-f035-4e00-b903-8e943db614b6"
   },
   "outputs": [],
   "source": [
    "# Carrega o tokenizador\n",
    "# device_map=\"auto\" permite que o modelo utilize automaticamente a GPU disponível, se houver uma.\n",
    "# Caso contrário, ele usará a CPU.\n",
    "tokenizer = GPT2Tokenizer.from_pretrained(\"gpt2-large\", device_map=\"auto\")"
   ]
  },
  {
   "cell_type": "code",
   "execution_count": 33,
   "metadata": {
    "colab": {
     "base_uri": "https://localhost:8080/"
    },
    "id": "3uXwJ8XOnQK1",
    "outputId": "1c62629d-0d36-461f-9bbd-db64d975dbc1"
   },
   "outputs": [
    {
     "data": {
      "text/plain": [
       "GPT2Tokenizer(name_or_path='gpt2-large', vocab_size=50257, model_max_length=1024, is_fast=False, padding_side='right', truncation_side='right', special_tokens={'bos_token': '<|endoftext|>', 'eos_token': '<|endoftext|>', 'unk_token': '<|endoftext|>'}, clean_up_tokenization_spaces=False, added_tokens_decoder={\n",
       "\t50256: AddedToken(\"<|endoftext|>\", rstrip=False, lstrip=False, single_word=False, normalized=True, special=True),\n",
       "}\n",
       ")"
      ]
     },
     "execution_count": 33,
     "metadata": {},
     "output_type": "execute_result"
    }
   ],
   "source": [
    "# Define o conjunto de regras de como os dados serão processados e retorna em um formato em que o modelo é capaz de processar.\n",
    "tokenizer"
   ]
  },
  {
   "cell_type": "markdown",
   "metadata": {
    "id": "8CC_0uH1nQK2"
   },
   "source": [
    "**from_pretrained**: Este é um método da classe GPT2Tokenizer. O método from_pretrained é usado para carregar um tokenizer que já foi treinado em um conjunto de dados específico. Neste caso, está treinado para trabalhar com o modelo GPT-2.\n",
    "\n",
    "**\"gpt2-large\"**: Este é um argumento de string para o método from_pretrained. Ele especifica qual variante do tokenizer do modelo GPT-2 você deseja usar. O modelo gpt2-large é uma versão maior do modelo GPT-2, o que significa que possui mais parâmetros e pode potencialmente gerar texto mais coerente e contextualmente relevante em comparação com versões menores. O tokenizer para gpt2-large é treinado especificamente para funcionar bem com esta variante de modelo."
   ]
  },
  {
   "cell_type": "markdown",
   "metadata": {
    "id": "Pu_EbSGJnQK2"
   },
   "source": [
    "## Carregando o Modelo Pré-Treinado"
   ]
  },
  {
   "cell_type": "code",
   "execution_count": null,
   "metadata": {
    "colab": {
     "base_uri": "https://localhost:8080/",
     "height": 81,
     "referenced_widgets": [
      "98d6b3b920fc499c8907b2f5dfdc74b8",
      "0cffbf686a044be8b5fe43a41c180c4f",
      "af2666b27a794bc8ac16e11a4baaf264",
      "01087a05d29744f39f577f77096bd5e9",
      "4812ce679cff4f32b49f76b7abb71738",
      "27019a6d65a24d9c92d174acf6b2dd71",
      "47d6ca283526477ca3388ccdf7e91107",
      "b6e3f7053c134994b9cc744cf83a9dbf",
      "31fa8938485e4fbca9c7f7adfa640934",
      "c932d50ef2cf4ac8a0c1b87956d44566",
      "7c0c502bab4b43b785fc945cdaeaeac2",
      "4ceaa4d7f9b44a8dbdaf02bf2e7ec69f",
      "f778690d991147088429be5375c3edd1",
      "dbd9691d4b8e4114be6100c1ec820b8e",
      "bb575971b2a649c38641d821d9e7e6fa",
      "3842e7989dcc4048a6090701f9c274ba",
      "56193de2695742a1b0143bf174b7c893",
      "7f7950fab117480ab80906d86b3cc97b",
      "0721c8813b714bd49d2f77ee377de79c",
      "93105ef40b1e4559b478baad596c4b7e",
      "b2b4e2c1b25a4fe799f16e585afd35d3",
      "3045545379db42eaa4f5e87d3b233f3f"
     ]
    },
    "id": "GBcIMEzKnQK2",
    "outputId": "f4dfe918-ef91-40e4-970c-52e151b0883b"
   },
   "outputs": [],
   "source": [
    "# Carrega o modelo\n",
    "model = GPT2LMHeadModel.from_pretrained(\"gpt2-large\", device_map=\"auto\", pad_token_id = tokenizer.eos_token_id)"
   ]
  },
  {
   "cell_type": "code",
   "execution_count": null,
   "metadata": {
    "colab": {
     "base_uri": "https://localhost:8080/"
    },
    "id": "bnbYTkyvnQK2",
    "outputId": "40ef5544-858f-4763-a960-cfc6599d74b9"
   },
   "outputs": [
    {
     "data": {
      "text/plain": [
       "GPT2LMHeadModel(\n",
       "  (transformer): GPT2Model(\n",
       "    (wte): Embedding(50257, 1280)\n",
       "    (wpe): Embedding(1024, 1280)\n",
       "    (drop): Dropout(p=0.1, inplace=False)\n",
       "    (h): ModuleList(\n",
       "      (0-35): 36 x GPT2Block(\n",
       "        (ln_1): LayerNorm((1280,), eps=1e-05, elementwise_affine=True)\n",
       "        (attn): GPT2Attention(\n",
       "          (c_attn): Conv1D()\n",
       "          (c_proj): Conv1D()\n",
       "          (attn_dropout): Dropout(p=0.1, inplace=False)\n",
       "          (resid_dropout): Dropout(p=0.1, inplace=False)\n",
       "        )\n",
       "        (ln_2): LayerNorm((1280,), eps=1e-05, elementwise_affine=True)\n",
       "        (mlp): GPT2MLP(\n",
       "          (c_fc): Conv1D()\n",
       "          (c_proj): Conv1D()\n",
       "          (act): NewGELUActivation()\n",
       "          (dropout): Dropout(p=0.1, inplace=False)\n",
       "        )\n",
       "      )\n",
       "    )\n",
       "    (ln_f): LayerNorm((1280,), eps=1e-05, elementwise_affine=True)\n",
       "  )\n",
       "  (lm_head): Linear(in_features=1280, out_features=50257, bias=False)\n",
       ")"
      ]
     },
     "execution_count": 9,
     "metadata": {},
     "output_type": "execute_result"
    }
   ],
   "source": [
    "model"
   ]
  },
  {
   "cell_type": "markdown",
   "metadata": {
    "id": "z4hlw_yinQK2"
   },
   "source": [
    "**pad_token_id**: Este parâmetro define o token que o modelo usa para preenchimento. O preenchimento é usado para preencher sequências mais curtas para corresponder ao comprimento da sequência mais longa ao processar um lote de dados de texto.\n",
    "\n",
    "**tokenizer.eos_token_id**: O eos_token_id é o ID do token de 'fim da string' do tokenizer. Esta linha define o ID do token de preenchimento como igual ao ID do token de final de string. Ele informa ao modelo que o preenchimento deve ser tratado de forma semelhante ao token de final de string, o que é importante para manter a consistência na forma como o modelo processa sequências de texto."
   ]
  },
  {
   "cell_type": "markdown",
   "metadata": {
    "id": "PAu-brYcnQK3"
   },
   "source": [
    "## Gerando Texto com o LLM"
   ]
  },
  {
   "cell_type": "code",
   "execution_count": 10,
   "metadata": {
    "id": "8cMpygCfnQK3"
   },
   "outputs": [],
   "source": [
    "# Texto inicial\n",
    "prompt = 'What is Artificial Intelligence'"
   ]
  },
  {
   "cell_type": "code",
   "execution_count": null,
   "metadata": {
    "id": "OqHL9GpfnQK3"
   },
   "outputs": [],
   "source": [
    "# Tokeniza o texto do prompt\n",
    "input_ids = tokenizer.encode(prompt, return_tensors = 'pt')"
   ]
  },
  {
   "cell_type": "markdown",
   "metadata": {
    "id": "Rz3gqs1bnQK3"
   },
   "source": [
    "**encode**: Este é um método do tokenizer. Ele recebe uma sequência de texto e a converte em uma lista de tokens numéricos. Cada token corresponde a uma palavra ou parte de uma palavra.\n",
    "\n",
    "**return_tensors='pt'**: Este argumento diz ao tokenizer para retornar os tokens em um formato adequado para PyTorch (indicado por 'pt')."
   ]
  },
  {
   "cell_type": "code",
   "execution_count": 12,
   "metadata": {
    "colab": {
     "base_uri": "https://localhost:8080/"
    },
    "id": "XPBVi7yXnQK3",
    "outputId": "311ffab9-541e-4acf-e935-88800aefe903"
   },
   "outputs": [
    {
     "data": {
      "text/plain": [
       "tensor([[ 2061,   318, 35941,  9345]])"
      ]
     },
     "execution_count": 12,
     "metadata": {},
     "output_type": "execute_result"
    }
   ],
   "source": [
    "# Visualiza\n",
    "input_ids"
   ]
  },
  {
   "cell_type": "markdown",
   "metadata": {
    "id": "A_pXIZJ_nQK3"
   },
   "source": [
    "O tensor de saída representa um tensor PyTorch contendo uma sequência de tokens numéricos. Esses tokens são o resultado do processamento de texto por meio de um tokenizer, especificamente o tokenizer GPT-2 nesse caso.\n",
    "\n",
    "O tokenizer possui um vocabulário de tokens (palavras, partes de palavras, símbolos, etc.) e cada pedaço de texto exclusivo recebe um número específico. Por exemplo, a palavra “olá” pode ser transformada no número 1256, “mundo” pode se tornar 5678 e assim por diante.\n",
    "\n",
    "A sequência acima corresponde à forma tokenizada da frase de entrada. Cada número é mapeado para uma palavra ou parte de uma palavra nessa frase.\n",
    "\n",
    "Os colchetes duplos indicam que este é um tensor bidimensional. Neste contexto uma única sequência (uma frase) está sendo representada, portanto, apenas uma linha neste tensor 2D.\n",
    "\n",
    "Os valores numéricos não têm significado inerente sem o contexto do vocabulário do tokenizer. Para entender qual texto cada número representa, você precisaria procurar esses IDs no vocabulário do tokenizer.\n",
    "\n",
    "Esse formato de tensor é o que você normalmente alimenta em um modelo de aprendizado de máquina como o GPT-2 para executar tarefas como geração de texto, classificação ou resposta a perguntas. O modelo lê esses números e usa sua rede neural treinada para interpretá-los e gerar resultados apropriados com base em seu treinamento."
   ]
  },
  {
   "cell_type": "code",
   "execution_count": null,
   "metadata": {
    "id": "Zh6M7HbcnQK4"
   },
   "outputs": [],
   "source": [
    "# Gerando o texto a partir do prompt com o texto inicial\n",
    "texto_gerado = model.generate(input_ids,\n",
    "                              max_length = 100,\n",
    "                              num_beams = 5,\n",
    "                              no_repeat_ngram_size = 2,\n",
    "                              early_stopping = True)"
   ]
  },
  {
   "cell_type": "markdown",
   "metadata": {
    "id": "dElxztMjnQK4"
   },
   "source": [
    "**max_length=100**: Este parâmetro define o comprimento máximo da sequência a ser gerada. O valor 100 inclui o comprimento do texto de entrada (o contexto) e o novo texto que o modelo irá gerar. O modelo para de gerar tokens adicionais quando esse comprimento é atingido.\n",
    "\n",
    "**num_beams=5**: Este parâmetro permite a pesquisa de feixe com 5 feixes. A pesquisa em feixe é uma técnica usada em PLN para geração de texto onde o modelo considera várias próximas palavras possíveis em cada etapa e mantém as sequências (ou \"feixes\") mais promissoras de tokens em cada etapa. Usar 5 feixes significa que o modelo rastreia 5 sequências potenciais em cada etapa, o que pode levar a resultados de maior qualidade, mas requer mais recursos computacionais.\n",
    "\n",
    "**no_repeat_ngram_size=2**: Esta configuração evita que o modelo repita os mesmos n-gramas (neste caso, sequências de 2 tokens) no texto de saída. Ajuda a reduzir a repetitividade no texto gerado.\n",
    "\n",
    "**early_stopping=True**: Este parâmetro informa ao modelo para parar de gerar texto assim que todos os candidatos ao feixe atingirem o token de final da frase. Pode tornar o processo de geração mais eficiente, interrompendo a busca assim que uma saída satisfatória for encontrada."
   ]
  },
  {
   "cell_type": "code",
   "execution_count": 14,
   "metadata": {
    "colab": {
     "base_uri": "https://localhost:8080/"
    },
    "id": "rsmH5ePynQK4",
    "outputId": "4cd5a9dc-2d60-4bcc-e92b-45000c76e2c6"
   },
   "outputs": [
    {
     "data": {
      "text/plain": [
       "tensor([[ 2061,   318, 35941,  9345,    30,   198,   198,  8001,  9542,  4430,\n",
       "           357, 20185,     8,   318,   257,  8478,   286,  3644,  3783,   326,\n",
       "          7529,   351,  3644,  4056,   326,   389,  1498,   284,  2193,   290,\n",
       "          6068,   284,   511,  2858,    13,  9552,   468,   587,  1088,   329,\n",
       "           257,   890,   640,    11,   475,   340,   318,   691,  2904,   326,\n",
       "          9061,   423,  1716,  6007,   286,  9489,  8861,   326,   547,  1752,\n",
       "          1807,   284,   307,  3675,   262,  9889,   286,  1692,  9791,    13,\n",
       "          1114,  1672,    11,   257,  3644,  1430,   460,  2193,   703,   284,\n",
       "           711,   257,  2008,   983,   416,  2712,   262,   976,   983,   625,\n",
       "           290,   625,   757,    13,   770,   318,  1444, 37414,  4673,    13]])"
      ]
     },
     "execution_count": 14,
     "metadata": {},
     "output_type": "execute_result"
    }
   ],
   "source": [
    "texto_gerado"
   ]
  },
  {
   "cell_type": "markdown",
   "metadata": {
    "id": "LkhsPmA_nQK4"
   },
   "source": [
    "Texto? Como assim?\n",
    "\n",
    "Isso é o que o modelo gera realmente. Vamos agora converter isso em algo que faça sentido."
   ]
  },
  {
   "cell_type": "markdown",
   "metadata": {
    "id": "xw3XRCEpnQK4"
   },
   "source": [
    "## Decodificando o Resultado com o Tokenizador"
   ]
  },
  {
   "cell_type": "code",
   "execution_count": null,
   "metadata": {
    "colab": {
     "base_uri": "https://localhost:8080/"
    },
    "id": "x5NQwHSOnQK4",
    "outputId": "23b1075a-c882-4059-e0a0-bdbbd4513efb"
   },
   "outputs": [
    {
     "name": "stdout",
     "output_type": "stream",
     "text": [
      "What is Artificial Intelligence?\n",
      "\n",
      "Artificial intelligence (AI) is a branch of computer science that deals with computer programs that are able to learn and adapt to their environment. AI has been around for a long time, but it is only recently that computers have become capable of performing tasks that were once thought to be beyond the capabilities of human beings. For example, a computer program can learn how to play a video game by playing the same game over and over again. This is called reinforcement learning.\n"
     ]
    }
   ],
   "source": [
    "print(tokenizer.decode(texto_gerado[0], skip_special_tokens = True))"
   ]
  },
  {
   "cell_type": "markdown",
   "metadata": {
    "id": "X34gZOccnQK5"
   },
   "source": [
    "O tokenizer não apenas converte texto em tokens (representações numéricas), mas também pode fazer o inverso – convertendo tokens de volta em texto.\n",
    "\n",
    "**skip_special_tokens=True**: Este argumento diz ao decodificador para ignorar tokens especiais, como tokens de preenchimento ou tokens de fim de sequência que são usados para processamento do modelo, mas não são significativos no texto final gerado."
   ]
  },
  {
   "cell_type": "code",
   "execution_count": 35,
   "metadata": {
    "colab": {
     "base_uri": "https://localhost:8080/"
    },
    "id": "9Nb0rtNlnQK5",
    "outputId": "2956ee27-9318-4faf-8bfc-da516a2c5ca4"
   },
   "outputs": [
    {
     "name": "stdout",
     "output_type": "stream",
     "text": [
      "Author: Lucas P. Lira\n",
      "\n",
      "Python implementation: CPython\n",
      "Python version       : 3.12.7\n",
      "IPython version      : 8.27.0\n",
      "\n",
      "tensorflow  : 2.19.0\n",
      "torch       : 2.6.0\n",
      "transformers: 4.50.3\n",
      "\n"
     ]
    }
   ],
   "source": [
    "%watermark -a \"Lucas P. Lira\" -v -p tensorflow,torch,transformers"
   ]
  },
  {
   "cell_type": "code",
   "execution_count": 36,
   "metadata": {
    "id": "wCPW4u2knQK5"
   },
   "outputs": [
    {
     "name": "stdout",
     "output_type": "stream",
     "text": [
      "Python implementation: CPython\n",
      "Python version       : 3.12.7\n",
      "IPython version      : 8.27.0\n",
      "\n",
      "Compiler    : MSC v.1929 64 bit (AMD64)\n",
      "OS          : Windows\n",
      "Release     : 11\n",
      "Machine     : AMD64\n",
      "Processor   : Intel64 Family 6 Model 170 Stepping 4, GenuineIntel\n",
      "CPU cores   : 22\n",
      "Architecture: 64bit\n",
      "\n"
     ]
    }
   ],
   "source": [
    "%watermark -v -m"
   ]
  },
  {
   "cell_type": "code",
   "execution_count": 37,
   "metadata": {
    "id": "lnw0Wu3YnQK5"
   },
   "outputs": [
    {
     "name": "stdout",
     "output_type": "stream",
     "text": [
      "tensorflow  : 2.19.0\n",
      "torch       : 2.6.0\n",
      "transformers: 4.50.3\n",
      "\n"
     ]
    }
   ],
   "source": [
    "%watermark --iversions"
   ]
  },
  {
   "cell_type": "markdown",
   "metadata": {
    "id": "jr83rcgFfUXc"
   },
   "source": [
    "# Fim"
   ]
  }
 ],
 "metadata": {
  "accelerator": "GPU",
  "colab": {
   "provenance": []
  },
  "gpuClass": "standard",
  "kernelspec": {
   "display_name": "base",
   "language": "python",
   "name": "python3"
  },
  "language_info": {
   "codemirror_mode": {
    "name": "ipython",
    "version": 3
   },
   "file_extension": ".py",
   "mimetype": "text/x-python",
   "name": "python",
   "nbconvert_exporter": "python",
   "pygments_lexer": "ipython3",
   "version": "3.12.7"
  },
  "widgets": {
   "application/vnd.jupyter.widget-state+json": {
    "01087a05d29744f39f577f77096bd5e9": {
     "model_module": "@jupyter-widgets/controls",
     "model_module_version": "1.5.0",
     "model_name": "HTMLModel",
     "state": {
      "_dom_classes": [],
      "_model_module": "@jupyter-widgets/controls",
      "_model_module_version": "1.5.0",
      "_model_name": "HTMLModel",
      "_view_count": null,
      "_view_module": "@jupyter-widgets/controls",
      "_view_module_version": "1.5.0",
      "_view_name": "HTMLView",
      "description": "",
      "description_tooltip": null,
      "layout": "IPY_MODEL_c932d50ef2cf4ac8a0c1b87956d44566",
      "placeholder": "​",
      "style": "IPY_MODEL_7c0c502bab4b43b785fc945cdaeaeac2",
      "value": " 3.25G/3.25G [00:31&lt;00:00, 26.2MB/s]"
     }
    },
    "0721c8813b714bd49d2f77ee377de79c": {
     "model_module": "@jupyter-widgets/base",
     "model_module_version": "1.2.0",
     "model_name": "LayoutModel",
     "state": {
      "_model_module": "@jupyter-widgets/base",
      "_model_module_version": "1.2.0",
      "_model_name": "LayoutModel",
      "_view_count": null,
      "_view_module": "@jupyter-widgets/base",
      "_view_module_version": "1.2.0",
      "_view_name": "LayoutView",
      "align_content": null,
      "align_items": null,
      "align_self": null,
      "border": null,
      "bottom": null,
      "display": null,
      "flex": null,
      "flex_flow": null,
      "grid_area": null,
      "grid_auto_columns": null,
      "grid_auto_flow": null,
      "grid_auto_rows": null,
      "grid_column": null,
      "grid_gap": null,
      "grid_row": null,
      "grid_template_areas": null,
      "grid_template_columns": null,
      "grid_template_rows": null,
      "height": null,
      "justify_content": null,
      "justify_items": null,
      "left": null,
      "margin": null,
      "max_height": null,
      "max_width": null,
      "min_height": null,
      "min_width": null,
      "object_fit": null,
      "object_position": null,
      "order": null,
      "overflow": null,
      "overflow_x": null,
      "overflow_y": null,
      "padding": null,
      "right": null,
      "top": null,
      "visibility": null,
      "width": null
     }
    },
    "088928d55ddf46fab2fd70efd9ddf3b7": {
     "model_module": "@jupyter-widgets/controls",
     "model_module_version": "1.5.0",
     "model_name": "DescriptionStyleModel",
     "state": {
      "_model_module": "@jupyter-widgets/controls",
      "_model_module_version": "1.5.0",
      "_model_name": "DescriptionStyleModel",
      "_view_count": null,
      "_view_module": "@jupyter-widgets/base",
      "_view_module_version": "1.2.0",
      "_view_name": "StyleView",
      "description_width": ""
     }
    },
    "0ba43fd4e04b48819df4771abba3dba5": {
     "model_module": "@jupyter-widgets/controls",
     "model_module_version": "1.5.0",
     "model_name": "HTMLModel",
     "state": {
      "_dom_classes": [],
      "_model_module": "@jupyter-widgets/controls",
      "_model_module_version": "1.5.0",
      "_model_name": "HTMLModel",
      "_view_count": null,
      "_view_module": "@jupyter-widgets/controls",
      "_view_module_version": "1.5.0",
      "_view_name": "HTMLView",
      "description": "",
      "description_tooltip": null,
      "layout": "IPY_MODEL_558e9038475d4ac8850fc0812db4ed48",
      "placeholder": "​",
      "style": "IPY_MODEL_66530a7bd4784179acb94023adf93f9b",
      "value": "vocab.json: 100%"
     }
    },
    "0cffbf686a044be8b5fe43a41c180c4f": {
     "model_module": "@jupyter-widgets/controls",
     "model_module_version": "1.5.0",
     "model_name": "HTMLModel",
     "state": {
      "_dom_classes": [],
      "_model_module": "@jupyter-widgets/controls",
      "_model_module_version": "1.5.0",
      "_model_name": "HTMLModel",
      "_view_count": null,
      "_view_module": "@jupyter-widgets/controls",
      "_view_module_version": "1.5.0",
      "_view_name": "HTMLView",
      "description": "",
      "description_tooltip": null,
      "layout": "IPY_MODEL_27019a6d65a24d9c92d174acf6b2dd71",
      "placeholder": "​",
      "style": "IPY_MODEL_47d6ca283526477ca3388ccdf7e91107",
      "value": "model.safetensors: 100%"
     }
    },
    "0daf1dc6c0b54b83bd46fe2406501431": {
     "model_module": "@jupyter-widgets/controls",
     "model_module_version": "1.5.0",
     "model_name": "HBoxModel",
     "state": {
      "_dom_classes": [],
      "_model_module": "@jupyter-widgets/controls",
      "_model_module_version": "1.5.0",
      "_model_name": "HBoxModel",
      "_view_count": null,
      "_view_module": "@jupyter-widgets/controls",
      "_view_module_version": "1.5.0",
      "_view_name": "HBoxView",
      "box_style": "",
      "children": [
       "IPY_MODEL_42156e5a79ad431b9087d54dfa7e8a4c",
       "IPY_MODEL_480904a0db3745ecb3b3299771ff9447",
       "IPY_MODEL_60ae6384731948d38771e17c4d81de30"
      ],
      "layout": "IPY_MODEL_8b34d18acd094b60b97af30156c0283e"
     }
    },
    "113e06543ac24c9e976bac7ba96ee3d5": {
     "model_module": "@jupyter-widgets/base",
     "model_module_version": "1.2.0",
     "model_name": "LayoutModel",
     "state": {
      "_model_module": "@jupyter-widgets/base",
      "_model_module_version": "1.2.0",
      "_model_name": "LayoutModel",
      "_view_count": null,
      "_view_module": "@jupyter-widgets/base",
      "_view_module_version": "1.2.0",
      "_view_name": "LayoutView",
      "align_content": null,
      "align_items": null,
      "align_self": null,
      "border": null,
      "bottom": null,
      "display": null,
      "flex": null,
      "flex_flow": null,
      "grid_area": null,
      "grid_auto_columns": null,
      "grid_auto_flow": null,
      "grid_auto_rows": null,
      "grid_column": null,
      "grid_gap": null,
      "grid_row": null,
      "grid_template_areas": null,
      "grid_template_columns": null,
      "grid_template_rows": null,
      "height": null,
      "justify_content": null,
      "justify_items": null,
      "left": null,
      "margin": null,
      "max_height": null,
      "max_width": null,
      "min_height": null,
      "min_width": null,
      "object_fit": null,
      "object_position": null,
      "order": null,
      "overflow": null,
      "overflow_x": null,
      "overflow_y": null,
      "padding": null,
      "right": null,
      "top": null,
      "visibility": null,
      "width": null
     }
    },
    "1d26e8fecd8d4e879dbea021f3149738": {
     "model_module": "@jupyter-widgets/controls",
     "model_module_version": "1.5.0",
     "model_name": "FloatProgressModel",
     "state": {
      "_dom_classes": [],
      "_model_module": "@jupyter-widgets/controls",
      "_model_module_version": "1.5.0",
      "_model_name": "FloatProgressModel",
      "_view_count": null,
      "_view_module": "@jupyter-widgets/controls",
      "_view_module_version": "1.5.0",
      "_view_name": "ProgressView",
      "bar_style": "success",
      "description": "",
      "description_tooltip": null,
      "layout": "IPY_MODEL_f1240760b5794092817a8941ac688c6a",
      "max": 666,
      "min": 0,
      "orientation": "horizontal",
      "style": "IPY_MODEL_bbbc5df61a1c44208851f392972a353d",
      "value": 666
     }
    },
    "21443eec609d4a8d89f4de5da57465b9": {
     "model_module": "@jupyter-widgets/controls",
     "model_module_version": "1.5.0",
     "model_name": "DescriptionStyleModel",
     "state": {
      "_model_module": "@jupyter-widgets/controls",
      "_model_module_version": "1.5.0",
      "_model_name": "DescriptionStyleModel",
      "_view_count": null,
      "_view_module": "@jupyter-widgets/base",
      "_view_module_version": "1.2.0",
      "_view_name": "StyleView",
      "description_width": ""
     }
    },
    "27019a6d65a24d9c92d174acf6b2dd71": {
     "model_module": "@jupyter-widgets/base",
     "model_module_version": "1.2.0",
     "model_name": "LayoutModel",
     "state": {
      "_model_module": "@jupyter-widgets/base",
      "_model_module_version": "1.2.0",
      "_model_name": "LayoutModel",
      "_view_count": null,
      "_view_module": "@jupyter-widgets/base",
      "_view_module_version": "1.2.0",
      "_view_name": "LayoutView",
      "align_content": null,
      "align_items": null,
      "align_self": null,
      "border": null,
      "bottom": null,
      "display": null,
      "flex": null,
      "flex_flow": null,
      "grid_area": null,
      "grid_auto_columns": null,
      "grid_auto_flow": null,
      "grid_auto_rows": null,
      "grid_column": null,
      "grid_gap": null,
      "grid_row": null,
      "grid_template_areas": null,
      "grid_template_columns": null,
      "grid_template_rows": null,
      "height": null,
      "justify_content": null,
      "justify_items": null,
      "left": null,
      "margin": null,
      "max_height": null,
      "max_width": null,
      "min_height": null,
      "min_width": null,
      "object_fit": null,
      "object_position": null,
      "order": null,
      "overflow": null,
      "overflow_x": null,
      "overflow_y": null,
      "padding": null,
      "right": null,
      "top": null,
      "visibility": null,
      "width": null
     }
    },
    "3045545379db42eaa4f5e87d3b233f3f": {
     "model_module": "@jupyter-widgets/controls",
     "model_module_version": "1.5.0",
     "model_name": "DescriptionStyleModel",
     "state": {
      "_model_module": "@jupyter-widgets/controls",
      "_model_module_version": "1.5.0",
      "_model_name": "DescriptionStyleModel",
      "_view_count": null,
      "_view_module": "@jupyter-widgets/base",
      "_view_module_version": "1.2.0",
      "_view_name": "StyleView",
      "description_width": ""
     }
    },
    "31fa8938485e4fbca9c7f7adfa640934": {
     "model_module": "@jupyter-widgets/controls",
     "model_module_version": "1.5.0",
     "model_name": "ProgressStyleModel",
     "state": {
      "_model_module": "@jupyter-widgets/controls",
      "_model_module_version": "1.5.0",
      "_model_name": "ProgressStyleModel",
      "_view_count": null,
      "_view_module": "@jupyter-widgets/base",
      "_view_module_version": "1.2.0",
      "_view_name": "StyleView",
      "bar_color": null,
      "description_width": ""
     }
    },
    "36cf015391a64ade85a129aadabc5e41": {
     "model_module": "@jupyter-widgets/controls",
     "model_module_version": "1.5.0",
     "model_name": "DescriptionStyleModel",
     "state": {
      "_model_module": "@jupyter-widgets/controls",
      "_model_module_version": "1.5.0",
      "_model_name": "DescriptionStyleModel",
      "_view_count": null,
      "_view_module": "@jupyter-widgets/base",
      "_view_module_version": "1.2.0",
      "_view_name": "StyleView",
      "description_width": ""
     }
    },
    "3842e7989dcc4048a6090701f9c274ba": {
     "model_module": "@jupyter-widgets/base",
     "model_module_version": "1.2.0",
     "model_name": "LayoutModel",
     "state": {
      "_model_module": "@jupyter-widgets/base",
      "_model_module_version": "1.2.0",
      "_model_name": "LayoutModel",
      "_view_count": null,
      "_view_module": "@jupyter-widgets/base",
      "_view_module_version": "1.2.0",
      "_view_name": "LayoutView",
      "align_content": null,
      "align_items": null,
      "align_self": null,
      "border": null,
      "bottom": null,
      "display": null,
      "flex": null,
      "flex_flow": null,
      "grid_area": null,
      "grid_auto_columns": null,
      "grid_auto_flow": null,
      "grid_auto_rows": null,
      "grid_column": null,
      "grid_gap": null,
      "grid_row": null,
      "grid_template_areas": null,
      "grid_template_columns": null,
      "grid_template_rows": null,
      "height": null,
      "justify_content": null,
      "justify_items": null,
      "left": null,
      "margin": null,
      "max_height": null,
      "max_width": null,
      "min_height": null,
      "min_width": null,
      "object_fit": null,
      "object_position": null,
      "order": null,
      "overflow": null,
      "overflow_x": null,
      "overflow_y": null,
      "padding": null,
      "right": null,
      "top": null,
      "visibility": null,
      "width": null
     }
    },
    "3b906447a8d643958aac8c0479f4ce3d": {
     "model_module": "@jupyter-widgets/base",
     "model_module_version": "1.2.0",
     "model_name": "LayoutModel",
     "state": {
      "_model_module": "@jupyter-widgets/base",
      "_model_module_version": "1.2.0",
      "_model_name": "LayoutModel",
      "_view_count": null,
      "_view_module": "@jupyter-widgets/base",
      "_view_module_version": "1.2.0",
      "_view_name": "LayoutView",
      "align_content": null,
      "align_items": null,
      "align_self": null,
      "border": null,
      "bottom": null,
      "display": null,
      "flex": null,
      "flex_flow": null,
      "grid_area": null,
      "grid_auto_columns": null,
      "grid_auto_flow": null,
      "grid_auto_rows": null,
      "grid_column": null,
      "grid_gap": null,
      "grid_row": null,
      "grid_template_areas": null,
      "grid_template_columns": null,
      "grid_template_rows": null,
      "height": null,
      "justify_content": null,
      "justify_items": null,
      "left": null,
      "margin": null,
      "max_height": null,
      "max_width": null,
      "min_height": null,
      "min_width": null,
      "object_fit": null,
      "object_position": null,
      "order": null,
      "overflow": null,
      "overflow_x": null,
      "overflow_y": null,
      "padding": null,
      "right": null,
      "top": null,
      "visibility": null,
      "width": null
     }
    },
    "3e63318b3ab644908291f79d58957629": {
     "model_module": "@jupyter-widgets/base",
     "model_module_version": "1.2.0",
     "model_name": "LayoutModel",
     "state": {
      "_model_module": "@jupyter-widgets/base",
      "_model_module_version": "1.2.0",
      "_model_name": "LayoutModel",
      "_view_count": null,
      "_view_module": "@jupyter-widgets/base",
      "_view_module_version": "1.2.0",
      "_view_name": "LayoutView",
      "align_content": null,
      "align_items": null,
      "align_self": null,
      "border": null,
      "bottom": null,
      "display": null,
      "flex": null,
      "flex_flow": null,
      "grid_area": null,
      "grid_auto_columns": null,
      "grid_auto_flow": null,
      "grid_auto_rows": null,
      "grid_column": null,
      "grid_gap": null,
      "grid_row": null,
      "grid_template_areas": null,
      "grid_template_columns": null,
      "grid_template_rows": null,
      "height": null,
      "justify_content": null,
      "justify_items": null,
      "left": null,
      "margin": null,
      "max_height": null,
      "max_width": null,
      "min_height": null,
      "min_width": null,
      "object_fit": null,
      "object_position": null,
      "order": null,
      "overflow": null,
      "overflow_x": null,
      "overflow_y": null,
      "padding": null,
      "right": null,
      "top": null,
      "visibility": null,
      "width": null
     }
    },
    "42156e5a79ad431b9087d54dfa7e8a4c": {
     "model_module": "@jupyter-widgets/controls",
     "model_module_version": "1.5.0",
     "model_name": "HTMLModel",
     "state": {
      "_dom_classes": [],
      "_model_module": "@jupyter-widgets/controls",
      "_model_module_version": "1.5.0",
      "_model_name": "HTMLModel",
      "_view_count": null,
      "_view_module": "@jupyter-widgets/controls",
      "_view_module_version": "1.5.0",
      "_view_name": "HTMLView",
      "description": "",
      "description_tooltip": null,
      "layout": "IPY_MODEL_a8016324a8174f898565d0b88c04021e",
      "placeholder": "​",
      "style": "IPY_MODEL_21443eec609d4a8d89f4de5da57465b9",
      "value": "merges.txt: 100%"
     }
    },
    "452b3a1c8360497b862bfe31f515187d": {
     "model_module": "@jupyter-widgets/controls",
     "model_module_version": "1.5.0",
     "model_name": "HTMLModel",
     "state": {
      "_dom_classes": [],
      "_model_module": "@jupyter-widgets/controls",
      "_model_module_version": "1.5.0",
      "_model_name": "HTMLModel",
      "_view_count": null,
      "_view_module": "@jupyter-widgets/controls",
      "_view_module_version": "1.5.0",
      "_view_name": "HTMLView",
      "description": "",
      "description_tooltip": null,
      "layout": "IPY_MODEL_be05c066a0be4597aefe9bfe7fe82fd2",
      "placeholder": "​",
      "style": "IPY_MODEL_36cf015391a64ade85a129aadabc5e41",
      "value": " 1.36M/1.36M [00:00&lt;00:00, 10.5MB/s]"
     }
    },
    "47d6ca283526477ca3388ccdf7e91107": {
     "model_module": "@jupyter-widgets/controls",
     "model_module_version": "1.5.0",
     "model_name": "DescriptionStyleModel",
     "state": {
      "_model_module": "@jupyter-widgets/controls",
      "_model_module_version": "1.5.0",
      "_model_name": "DescriptionStyleModel",
      "_view_count": null,
      "_view_module": "@jupyter-widgets/base",
      "_view_module_version": "1.2.0",
      "_view_name": "StyleView",
      "description_width": ""
     }
    },
    "480904a0db3745ecb3b3299771ff9447": {
     "model_module": "@jupyter-widgets/controls",
     "model_module_version": "1.5.0",
     "model_name": "FloatProgressModel",
     "state": {
      "_dom_classes": [],
      "_model_module": "@jupyter-widgets/controls",
      "_model_module_version": "1.5.0",
      "_model_name": "FloatProgressModel",
      "_view_count": null,
      "_view_module": "@jupyter-widgets/controls",
      "_view_module_version": "1.5.0",
      "_view_name": "ProgressView",
      "bar_style": "success",
      "description": "",
      "description_tooltip": null,
      "layout": "IPY_MODEL_8394f15754594a39b0044dba387c26aa",
      "max": 456318,
      "min": 0,
      "orientation": "horizontal",
      "style": "IPY_MODEL_713600196e8f46f793f18a2331de27a5",
      "value": 456318
     }
    },
    "4812ce679cff4f32b49f76b7abb71738": {
     "model_module": "@jupyter-widgets/base",
     "model_module_version": "1.2.0",
     "model_name": "LayoutModel",
     "state": {
      "_model_module": "@jupyter-widgets/base",
      "_model_module_version": "1.2.0",
      "_model_name": "LayoutModel",
      "_view_count": null,
      "_view_module": "@jupyter-widgets/base",
      "_view_module_version": "1.2.0",
      "_view_name": "LayoutView",
      "align_content": null,
      "align_items": null,
      "align_self": null,
      "border": null,
      "bottom": null,
      "display": null,
      "flex": null,
      "flex_flow": null,
      "grid_area": null,
      "grid_auto_columns": null,
      "grid_auto_flow": null,
      "grid_auto_rows": null,
      "grid_column": null,
      "grid_gap": null,
      "grid_row": null,
      "grid_template_areas": null,
      "grid_template_columns": null,
      "grid_template_rows": null,
      "height": null,
      "justify_content": null,
      "justify_items": null,
      "left": null,
      "margin": null,
      "max_height": null,
      "max_width": null,
      "min_height": null,
      "min_width": null,
      "object_fit": null,
      "object_position": null,
      "order": null,
      "overflow": null,
      "overflow_x": null,
      "overflow_y": null,
      "padding": null,
      "right": null,
      "top": null,
      "visibility": null,
      "width": null
     }
    },
    "4bf6883dd2aa4634b89dfa1043866f95": {
     "model_module": "@jupyter-widgets/controls",
     "model_module_version": "1.5.0",
     "model_name": "DescriptionStyleModel",
     "state": {
      "_model_module": "@jupyter-widgets/controls",
      "_model_module_version": "1.5.0",
      "_model_name": "DescriptionStyleModel",
      "_view_count": null,
      "_view_module": "@jupyter-widgets/base",
      "_view_module_version": "1.2.0",
      "_view_name": "StyleView",
      "description_width": ""
     }
    },
    "4ceaa4d7f9b44a8dbdaf02bf2e7ec69f": {
     "model_module": "@jupyter-widgets/controls",
     "model_module_version": "1.5.0",
     "model_name": "HBoxModel",
     "state": {
      "_dom_classes": [],
      "_model_module": "@jupyter-widgets/controls",
      "_model_module_version": "1.5.0",
      "_model_name": "HBoxModel",
      "_view_count": null,
      "_view_module": "@jupyter-widgets/controls",
      "_view_module_version": "1.5.0",
      "_view_name": "HBoxView",
      "box_style": "",
      "children": [
       "IPY_MODEL_f778690d991147088429be5375c3edd1",
       "IPY_MODEL_dbd9691d4b8e4114be6100c1ec820b8e",
       "IPY_MODEL_bb575971b2a649c38641d821d9e7e6fa"
      ],
      "layout": "IPY_MODEL_3842e7989dcc4048a6090701f9c274ba"
     }
    },
    "558e9038475d4ac8850fc0812db4ed48": {
     "model_module": "@jupyter-widgets/base",
     "model_module_version": "1.2.0",
     "model_name": "LayoutModel",
     "state": {
      "_model_module": "@jupyter-widgets/base",
      "_model_module_version": "1.2.0",
      "_model_name": "LayoutModel",
      "_view_count": null,
      "_view_module": "@jupyter-widgets/base",
      "_view_module_version": "1.2.0",
      "_view_name": "LayoutView",
      "align_content": null,
      "align_items": null,
      "align_self": null,
      "border": null,
      "bottom": null,
      "display": null,
      "flex": null,
      "flex_flow": null,
      "grid_area": null,
      "grid_auto_columns": null,
      "grid_auto_flow": null,
      "grid_auto_rows": null,
      "grid_column": null,
      "grid_gap": null,
      "grid_row": null,
      "grid_template_areas": null,
      "grid_template_columns": null,
      "grid_template_rows": null,
      "height": null,
      "justify_content": null,
      "justify_items": null,
      "left": null,
      "margin": null,
      "max_height": null,
      "max_width": null,
      "min_height": null,
      "min_width": null,
      "object_fit": null,
      "object_position": null,
      "order": null,
      "overflow": null,
      "overflow_x": null,
      "overflow_y": null,
      "padding": null,
      "right": null,
      "top": null,
      "visibility": null,
      "width": null
     }
    },
    "56193de2695742a1b0143bf174b7c893": {
     "model_module": "@jupyter-widgets/base",
     "model_module_version": "1.2.0",
     "model_name": "LayoutModel",
     "state": {
      "_model_module": "@jupyter-widgets/base",
      "_model_module_version": "1.2.0",
      "_model_name": "LayoutModel",
      "_view_count": null,
      "_view_module": "@jupyter-widgets/base",
      "_view_module_version": "1.2.0",
      "_view_name": "LayoutView",
      "align_content": null,
      "align_items": null,
      "align_self": null,
      "border": null,
      "bottom": null,
      "display": null,
      "flex": null,
      "flex_flow": null,
      "grid_area": null,
      "grid_auto_columns": null,
      "grid_auto_flow": null,
      "grid_auto_rows": null,
      "grid_column": null,
      "grid_gap": null,
      "grid_row": null,
      "grid_template_areas": null,
      "grid_template_columns": null,
      "grid_template_rows": null,
      "height": null,
      "justify_content": null,
      "justify_items": null,
      "left": null,
      "margin": null,
      "max_height": null,
      "max_width": null,
      "min_height": null,
      "min_width": null,
      "object_fit": null,
      "object_position": null,
      "order": null,
      "overflow": null,
      "overflow_x": null,
      "overflow_y": null,
      "padding": null,
      "right": null,
      "top": null,
      "visibility": null,
      "width": null
     }
    },
    "58522eac2f4b49a2adb90c40ac3595dc": {
     "model_module": "@jupyter-widgets/controls",
     "model_module_version": "1.5.0",
     "model_name": "DescriptionStyleModel",
     "state": {
      "_model_module": "@jupyter-widgets/controls",
      "_model_module_version": "1.5.0",
      "_model_name": "DescriptionStyleModel",
      "_view_count": null,
      "_view_module": "@jupyter-widgets/base",
      "_view_module_version": "1.2.0",
      "_view_name": "StyleView",
      "description_width": ""
     }
    },
    "5b9f8f0108bd4e83ad004e601da4fa3b": {
     "model_module": "@jupyter-widgets/controls",
     "model_module_version": "1.5.0",
     "model_name": "FloatProgressModel",
     "state": {
      "_dom_classes": [],
      "_model_module": "@jupyter-widgets/controls",
      "_model_module_version": "1.5.0",
      "_model_name": "FloatProgressModel",
      "_view_count": null,
      "_view_module": "@jupyter-widgets/controls",
      "_view_module_version": "1.5.0",
      "_view_name": "ProgressView",
      "bar_style": "success",
      "description": "",
      "description_tooltip": null,
      "layout": "IPY_MODEL_687724302d4b4feb8d9e2a6b58e32cad",
      "max": 1042301,
      "min": 0,
      "orientation": "horizontal",
      "style": "IPY_MODEL_cddbe971cfb64ff0bcff2adc248048c3",
      "value": 1042301
     }
    },
    "5cec5a93b39249b0987d95d45f0f14f8": {
     "model_module": "@jupyter-widgets/controls",
     "model_module_version": "1.5.0",
     "model_name": "DescriptionStyleModel",
     "state": {
      "_model_module": "@jupyter-widgets/controls",
      "_model_module_version": "1.5.0",
      "_model_name": "DescriptionStyleModel",
      "_view_count": null,
      "_view_module": "@jupyter-widgets/base",
      "_view_module_version": "1.2.0",
      "_view_name": "StyleView",
      "description_width": ""
     }
    },
    "60ae6384731948d38771e17c4d81de30": {
     "model_module": "@jupyter-widgets/controls",
     "model_module_version": "1.5.0",
     "model_name": "HTMLModel",
     "state": {
      "_dom_classes": [],
      "_model_module": "@jupyter-widgets/controls",
      "_model_module_version": "1.5.0",
      "_model_name": "HTMLModel",
      "_view_count": null,
      "_view_module": "@jupyter-widgets/controls",
      "_view_module_version": "1.5.0",
      "_view_name": "HTMLView",
      "description": "",
      "description_tooltip": null,
      "layout": "IPY_MODEL_8fa42f6611ca4882a40330bd75539250",
      "placeholder": "​",
      "style": "IPY_MODEL_5cec5a93b39249b0987d95d45f0f14f8",
      "value": " 456k/456k [00:00&lt;00:00, 2.31MB/s]"
     }
    },
    "6593d44bee58439891e9f1ec761c4d47": {
     "model_module": "@jupyter-widgets/controls",
     "model_module_version": "1.5.0",
     "model_name": "HTMLModel",
     "state": {
      "_dom_classes": [],
      "_model_module": "@jupyter-widgets/controls",
      "_model_module_version": "1.5.0",
      "_model_name": "HTMLModel",
      "_view_count": null,
      "_view_module": "@jupyter-widgets/controls",
      "_view_module_version": "1.5.0",
      "_view_name": "HTMLView",
      "description": "",
      "description_tooltip": null,
      "layout": "IPY_MODEL_113e06543ac24c9e976bac7ba96ee3d5",
      "placeholder": "​",
      "style": "IPY_MODEL_58522eac2f4b49a2adb90c40ac3595dc",
      "value": "config.json: 100%"
     }
    },
    "66530a7bd4784179acb94023adf93f9b": {
     "model_module": "@jupyter-widgets/controls",
     "model_module_version": "1.5.0",
     "model_name": "DescriptionStyleModel",
     "state": {
      "_model_module": "@jupyter-widgets/controls",
      "_model_module_version": "1.5.0",
      "_model_name": "DescriptionStyleModel",
      "_view_count": null,
      "_view_module": "@jupyter-widgets/base",
      "_view_module_version": "1.2.0",
      "_view_name": "StyleView",
      "description_width": ""
     }
    },
    "687724302d4b4feb8d9e2a6b58e32cad": {
     "model_module": "@jupyter-widgets/base",
     "model_module_version": "1.2.0",
     "model_name": "LayoutModel",
     "state": {
      "_model_module": "@jupyter-widgets/base",
      "_model_module_version": "1.2.0",
      "_model_name": "LayoutModel",
      "_view_count": null,
      "_view_module": "@jupyter-widgets/base",
      "_view_module_version": "1.2.0",
      "_view_name": "LayoutView",
      "align_content": null,
      "align_items": null,
      "align_self": null,
      "border": null,
      "bottom": null,
      "display": null,
      "flex": null,
      "flex_flow": null,
      "grid_area": null,
      "grid_auto_columns": null,
      "grid_auto_flow": null,
      "grid_auto_rows": null,
      "grid_column": null,
      "grid_gap": null,
      "grid_row": null,
      "grid_template_areas": null,
      "grid_template_columns": null,
      "grid_template_rows": null,
      "height": null,
      "justify_content": null,
      "justify_items": null,
      "left": null,
      "margin": null,
      "max_height": null,
      "max_width": null,
      "min_height": null,
      "min_width": null,
      "object_fit": null,
      "object_position": null,
      "order": null,
      "overflow": null,
      "overflow_x": null,
      "overflow_y": null,
      "padding": null,
      "right": null,
      "top": null,
      "visibility": null,
      "width": null
     }
    },
    "713600196e8f46f793f18a2331de27a5": {
     "model_module": "@jupyter-widgets/controls",
     "model_module_version": "1.5.0",
     "model_name": "ProgressStyleModel",
     "state": {
      "_model_module": "@jupyter-widgets/controls",
      "_model_module_version": "1.5.0",
      "_model_name": "ProgressStyleModel",
      "_view_count": null,
      "_view_module": "@jupyter-widgets/base",
      "_view_module_version": "1.2.0",
      "_view_name": "StyleView",
      "bar_color": null,
      "description_width": ""
     }
    },
    "7a3b5f9d0a374bc39d0584e938e627dd": {
     "model_module": "@jupyter-widgets/controls",
     "model_module_version": "1.5.0",
     "model_name": "FloatProgressModel",
     "state": {
      "_dom_classes": [],
      "_model_module": "@jupyter-widgets/controls",
      "_model_module_version": "1.5.0",
      "_model_name": "FloatProgressModel",
      "_view_count": null,
      "_view_module": "@jupyter-widgets/controls",
      "_view_module_version": "1.5.0",
      "_view_name": "ProgressView",
      "bar_style": "success",
      "description": "",
      "description_tooltip": null,
      "layout": "IPY_MODEL_3e63318b3ab644908291f79d58957629",
      "max": 1355256,
      "min": 0,
      "orientation": "horizontal",
      "style": "IPY_MODEL_9819a806202c465db451e564eac653ea",
      "value": 1355256
     }
    },
    "7c0c502bab4b43b785fc945cdaeaeac2": {
     "model_module": "@jupyter-widgets/controls",
     "model_module_version": "1.5.0",
     "model_name": "DescriptionStyleModel",
     "state": {
      "_model_module": "@jupyter-widgets/controls",
      "_model_module_version": "1.5.0",
      "_model_name": "DescriptionStyleModel",
      "_view_count": null,
      "_view_module": "@jupyter-widgets/base",
      "_view_module_version": "1.2.0",
      "_view_name": "StyleView",
      "description_width": ""
     }
    },
    "7f058bab0c0c4216aea22df83cbb7339": {
     "model_module": "@jupyter-widgets/base",
     "model_module_version": "1.2.0",
     "model_name": "LayoutModel",
     "state": {
      "_model_module": "@jupyter-widgets/base",
      "_model_module_version": "1.2.0",
      "_model_name": "LayoutModel",
      "_view_count": null,
      "_view_module": "@jupyter-widgets/base",
      "_view_module_version": "1.2.0",
      "_view_name": "LayoutView",
      "align_content": null,
      "align_items": null,
      "align_self": null,
      "border": null,
      "bottom": null,
      "display": null,
      "flex": null,
      "flex_flow": null,
      "grid_area": null,
      "grid_auto_columns": null,
      "grid_auto_flow": null,
      "grid_auto_rows": null,
      "grid_column": null,
      "grid_gap": null,
      "grid_row": null,
      "grid_template_areas": null,
      "grid_template_columns": null,
      "grid_template_rows": null,
      "height": null,
      "justify_content": null,
      "justify_items": null,
      "left": null,
      "margin": null,
      "max_height": null,
      "max_width": null,
      "min_height": null,
      "min_width": null,
      "object_fit": null,
      "object_position": null,
      "order": null,
      "overflow": null,
      "overflow_x": null,
      "overflow_y": null,
      "padding": null,
      "right": null,
      "top": null,
      "visibility": null,
      "width": null
     }
    },
    "7f7950fab117480ab80906d86b3cc97b": {
     "model_module": "@jupyter-widgets/controls",
     "model_module_version": "1.5.0",
     "model_name": "DescriptionStyleModel",
     "state": {
      "_model_module": "@jupyter-widgets/controls",
      "_model_module_version": "1.5.0",
      "_model_name": "DescriptionStyleModel",
      "_view_count": null,
      "_view_module": "@jupyter-widgets/base",
      "_view_module_version": "1.2.0",
      "_view_name": "StyleView",
      "description_width": ""
     }
    },
    "8178493bb9c64a88bdca8a57c2cb244d": {
     "model_module": "@jupyter-widgets/controls",
     "model_module_version": "1.5.0",
     "model_name": "HTMLModel",
     "state": {
      "_dom_classes": [],
      "_model_module": "@jupyter-widgets/controls",
      "_model_module_version": "1.5.0",
      "_model_name": "HTMLModel",
      "_view_count": null,
      "_view_module": "@jupyter-widgets/controls",
      "_view_module_version": "1.5.0",
      "_view_name": "HTMLView",
      "description": "",
      "description_tooltip": null,
      "layout": "IPY_MODEL_98715dee576146929fd2fa61bd7874b7",
      "placeholder": "​",
      "style": "IPY_MODEL_8bea153220994a659b5b86ecd2ae240a",
      "value": "tokenizer.json: 100%"
     }
    },
    "8394f15754594a39b0044dba387c26aa": {
     "model_module": "@jupyter-widgets/base",
     "model_module_version": "1.2.0",
     "model_name": "LayoutModel",
     "state": {
      "_model_module": "@jupyter-widgets/base",
      "_model_module_version": "1.2.0",
      "_model_name": "LayoutModel",
      "_view_count": null,
      "_view_module": "@jupyter-widgets/base",
      "_view_module_version": "1.2.0",
      "_view_name": "LayoutView",
      "align_content": null,
      "align_items": null,
      "align_self": null,
      "border": null,
      "bottom": null,
      "display": null,
      "flex": null,
      "flex_flow": null,
      "grid_area": null,
      "grid_auto_columns": null,
      "grid_auto_flow": null,
      "grid_auto_rows": null,
      "grid_column": null,
      "grid_gap": null,
      "grid_row": null,
      "grid_template_areas": null,
      "grid_template_columns": null,
      "grid_template_rows": null,
      "height": null,
      "justify_content": null,
      "justify_items": null,
      "left": null,
      "margin": null,
      "max_height": null,
      "max_width": null,
      "min_height": null,
      "min_width": null,
      "object_fit": null,
      "object_position": null,
      "order": null,
      "overflow": null,
      "overflow_x": null,
      "overflow_y": null,
      "padding": null,
      "right": null,
      "top": null,
      "visibility": null,
      "width": null
     }
    },
    "86f517349678415d828d0cc2089f2c44": {
     "model_module": "@jupyter-widgets/controls",
     "model_module_version": "1.5.0",
     "model_name": "HTMLModel",
     "state": {
      "_dom_classes": [],
      "_model_module": "@jupyter-widgets/controls",
      "_model_module_version": "1.5.0",
      "_model_name": "HTMLModel",
      "_view_count": null,
      "_view_module": "@jupyter-widgets/controls",
      "_view_module_version": "1.5.0",
      "_view_name": "HTMLView",
      "description": "",
      "description_tooltip": null,
      "layout": "IPY_MODEL_7f058bab0c0c4216aea22df83cbb7339",
      "placeholder": "​",
      "style": "IPY_MODEL_088928d55ddf46fab2fd70efd9ddf3b7",
      "value": " 1.04M/1.04M [00:00&lt;00:00, 20.1MB/s]"
     }
    },
    "8b34d18acd094b60b97af30156c0283e": {
     "model_module": "@jupyter-widgets/base",
     "model_module_version": "1.2.0",
     "model_name": "LayoutModel",
     "state": {
      "_model_module": "@jupyter-widgets/base",
      "_model_module_version": "1.2.0",
      "_model_name": "LayoutModel",
      "_view_count": null,
      "_view_module": "@jupyter-widgets/base",
      "_view_module_version": "1.2.0",
      "_view_name": "LayoutView",
      "align_content": null,
      "align_items": null,
      "align_self": null,
      "border": null,
      "bottom": null,
      "display": null,
      "flex": null,
      "flex_flow": null,
      "grid_area": null,
      "grid_auto_columns": null,
      "grid_auto_flow": null,
      "grid_auto_rows": null,
      "grid_column": null,
      "grid_gap": null,
      "grid_row": null,
      "grid_template_areas": null,
      "grid_template_columns": null,
      "grid_template_rows": null,
      "height": null,
      "justify_content": null,
      "justify_items": null,
      "left": null,
      "margin": null,
      "max_height": null,
      "max_width": null,
      "min_height": null,
      "min_width": null,
      "object_fit": null,
      "object_position": null,
      "order": null,
      "overflow": null,
      "overflow_x": null,
      "overflow_y": null,
      "padding": null,
      "right": null,
      "top": null,
      "visibility": null,
      "width": null
     }
    },
    "8bea153220994a659b5b86ecd2ae240a": {
     "model_module": "@jupyter-widgets/controls",
     "model_module_version": "1.5.0",
     "model_name": "DescriptionStyleModel",
     "state": {
      "_model_module": "@jupyter-widgets/controls",
      "_model_module_version": "1.5.0",
      "_model_name": "DescriptionStyleModel",
      "_view_count": null,
      "_view_module": "@jupyter-widgets/base",
      "_view_module_version": "1.2.0",
      "_view_name": "StyleView",
      "description_width": ""
     }
    },
    "8fa42f6611ca4882a40330bd75539250": {
     "model_module": "@jupyter-widgets/base",
     "model_module_version": "1.2.0",
     "model_name": "LayoutModel",
     "state": {
      "_model_module": "@jupyter-widgets/base",
      "_model_module_version": "1.2.0",
      "_model_name": "LayoutModel",
      "_view_count": null,
      "_view_module": "@jupyter-widgets/base",
      "_view_module_version": "1.2.0",
      "_view_name": "LayoutView",
      "align_content": null,
      "align_items": null,
      "align_self": null,
      "border": null,
      "bottom": null,
      "display": null,
      "flex": null,
      "flex_flow": null,
      "grid_area": null,
      "grid_auto_columns": null,
      "grid_auto_flow": null,
      "grid_auto_rows": null,
      "grid_column": null,
      "grid_gap": null,
      "grid_row": null,
      "grid_template_areas": null,
      "grid_template_columns": null,
      "grid_template_rows": null,
      "height": null,
      "justify_content": null,
      "justify_items": null,
      "left": null,
      "margin": null,
      "max_height": null,
      "max_width": null,
      "min_height": null,
      "min_width": null,
      "object_fit": null,
      "object_position": null,
      "order": null,
      "overflow": null,
      "overflow_x": null,
      "overflow_y": null,
      "padding": null,
      "right": null,
      "top": null,
      "visibility": null,
      "width": null
     }
    },
    "93105ef40b1e4559b478baad596c4b7e": {
     "model_module": "@jupyter-widgets/controls",
     "model_module_version": "1.5.0",
     "model_name": "ProgressStyleModel",
     "state": {
      "_model_module": "@jupyter-widgets/controls",
      "_model_module_version": "1.5.0",
      "_model_name": "ProgressStyleModel",
      "_view_count": null,
      "_view_module": "@jupyter-widgets/base",
      "_view_module_version": "1.2.0",
      "_view_name": "StyleView",
      "bar_color": null,
      "description_width": ""
     }
    },
    "9819a806202c465db451e564eac653ea": {
     "model_module": "@jupyter-widgets/controls",
     "model_module_version": "1.5.0",
     "model_name": "ProgressStyleModel",
     "state": {
      "_model_module": "@jupyter-widgets/controls",
      "_model_module_version": "1.5.0",
      "_model_name": "ProgressStyleModel",
      "_view_count": null,
      "_view_module": "@jupyter-widgets/base",
      "_view_module_version": "1.2.0",
      "_view_name": "StyleView",
      "bar_color": null,
      "description_width": ""
     }
    },
    "98715dee576146929fd2fa61bd7874b7": {
     "model_module": "@jupyter-widgets/base",
     "model_module_version": "1.2.0",
     "model_name": "LayoutModel",
     "state": {
      "_model_module": "@jupyter-widgets/base",
      "_model_module_version": "1.2.0",
      "_model_name": "LayoutModel",
      "_view_count": null,
      "_view_module": "@jupyter-widgets/base",
      "_view_module_version": "1.2.0",
      "_view_name": "LayoutView",
      "align_content": null,
      "align_items": null,
      "align_self": null,
      "border": null,
      "bottom": null,
      "display": null,
      "flex": null,
      "flex_flow": null,
      "grid_area": null,
      "grid_auto_columns": null,
      "grid_auto_flow": null,
      "grid_auto_rows": null,
      "grid_column": null,
      "grid_gap": null,
      "grid_row": null,
      "grid_template_areas": null,
      "grid_template_columns": null,
      "grid_template_rows": null,
      "height": null,
      "justify_content": null,
      "justify_items": null,
      "left": null,
      "margin": null,
      "max_height": null,
      "max_width": null,
      "min_height": null,
      "min_width": null,
      "object_fit": null,
      "object_position": null,
      "order": null,
      "overflow": null,
      "overflow_x": null,
      "overflow_y": null,
      "padding": null,
      "right": null,
      "top": null,
      "visibility": null,
      "width": null
     }
    },
    "98d6b3b920fc499c8907b2f5dfdc74b8": {
     "model_module": "@jupyter-widgets/controls",
     "model_module_version": "1.5.0",
     "model_name": "HBoxModel",
     "state": {
      "_dom_classes": [],
      "_model_module": "@jupyter-widgets/controls",
      "_model_module_version": "1.5.0",
      "_model_name": "HBoxModel",
      "_view_count": null,
      "_view_module": "@jupyter-widgets/controls",
      "_view_module_version": "1.5.0",
      "_view_name": "HBoxView",
      "box_style": "",
      "children": [
       "IPY_MODEL_0cffbf686a044be8b5fe43a41c180c4f",
       "IPY_MODEL_af2666b27a794bc8ac16e11a4baaf264",
       "IPY_MODEL_01087a05d29744f39f577f77096bd5e9"
      ],
      "layout": "IPY_MODEL_4812ce679cff4f32b49f76b7abb71738"
     }
    },
    "a72deb9a85b6406cbf0df1787c7eb890": {
     "model_module": "@jupyter-widgets/controls",
     "model_module_version": "1.5.0",
     "model_name": "HBoxModel",
     "state": {
      "_dom_classes": [],
      "_model_module": "@jupyter-widgets/controls",
      "_model_module_version": "1.5.0",
      "_model_name": "HBoxModel",
      "_view_count": null,
      "_view_module": "@jupyter-widgets/controls",
      "_view_module_version": "1.5.0",
      "_view_name": "HBoxView",
      "box_style": "",
      "children": [
       "IPY_MODEL_0ba43fd4e04b48819df4771abba3dba5",
       "IPY_MODEL_5b9f8f0108bd4e83ad004e601da4fa3b",
       "IPY_MODEL_86f517349678415d828d0cc2089f2c44"
      ],
      "layout": "IPY_MODEL_3b906447a8d643958aac8c0479f4ce3d"
     }
    },
    "a8016324a8174f898565d0b88c04021e": {
     "model_module": "@jupyter-widgets/base",
     "model_module_version": "1.2.0",
     "model_name": "LayoutModel",
     "state": {
      "_model_module": "@jupyter-widgets/base",
      "_model_module_version": "1.2.0",
      "_model_name": "LayoutModel",
      "_view_count": null,
      "_view_module": "@jupyter-widgets/base",
      "_view_module_version": "1.2.0",
      "_view_name": "LayoutView",
      "align_content": null,
      "align_items": null,
      "align_self": null,
      "border": null,
      "bottom": null,
      "display": null,
      "flex": null,
      "flex_flow": null,
      "grid_area": null,
      "grid_auto_columns": null,
      "grid_auto_flow": null,
      "grid_auto_rows": null,
      "grid_column": null,
      "grid_gap": null,
      "grid_row": null,
      "grid_template_areas": null,
      "grid_template_columns": null,
      "grid_template_rows": null,
      "height": null,
      "justify_content": null,
      "justify_items": null,
      "left": null,
      "margin": null,
      "max_height": null,
      "max_width": null,
      "min_height": null,
      "min_width": null,
      "object_fit": null,
      "object_position": null,
      "order": null,
      "overflow": null,
      "overflow_x": null,
      "overflow_y": null,
      "padding": null,
      "right": null,
      "top": null,
      "visibility": null,
      "width": null
     }
    },
    "a96cc450c02e4492bd59c90310e92e97": {
     "model_module": "@jupyter-widgets/base",
     "model_module_version": "1.2.0",
     "model_name": "LayoutModel",
     "state": {
      "_model_module": "@jupyter-widgets/base",
      "_model_module_version": "1.2.0",
      "_model_name": "LayoutModel",
      "_view_count": null,
      "_view_module": "@jupyter-widgets/base",
      "_view_module_version": "1.2.0",
      "_view_name": "LayoutView",
      "align_content": null,
      "align_items": null,
      "align_self": null,
      "border": null,
      "bottom": null,
      "display": null,
      "flex": null,
      "flex_flow": null,
      "grid_area": null,
      "grid_auto_columns": null,
      "grid_auto_flow": null,
      "grid_auto_rows": null,
      "grid_column": null,
      "grid_gap": null,
      "grid_row": null,
      "grid_template_areas": null,
      "grid_template_columns": null,
      "grid_template_rows": null,
      "height": null,
      "justify_content": null,
      "justify_items": null,
      "left": null,
      "margin": null,
      "max_height": null,
      "max_width": null,
      "min_height": null,
      "min_width": null,
      "object_fit": null,
      "object_position": null,
      "order": null,
      "overflow": null,
      "overflow_x": null,
      "overflow_y": null,
      "padding": null,
      "right": null,
      "top": null,
      "visibility": null,
      "width": null
     }
    },
    "ada820ed4f3742adaade7b15f5070038": {
     "model_module": "@jupyter-widgets/base",
     "model_module_version": "1.2.0",
     "model_name": "LayoutModel",
     "state": {
      "_model_module": "@jupyter-widgets/base",
      "_model_module_version": "1.2.0",
      "_model_name": "LayoutModel",
      "_view_count": null,
      "_view_module": "@jupyter-widgets/base",
      "_view_module_version": "1.2.0",
      "_view_name": "LayoutView",
      "align_content": null,
      "align_items": null,
      "align_self": null,
      "border": null,
      "bottom": null,
      "display": null,
      "flex": null,
      "flex_flow": null,
      "grid_area": null,
      "grid_auto_columns": null,
      "grid_auto_flow": null,
      "grid_auto_rows": null,
      "grid_column": null,
      "grid_gap": null,
      "grid_row": null,
      "grid_template_areas": null,
      "grid_template_columns": null,
      "grid_template_rows": null,
      "height": null,
      "justify_content": null,
      "justify_items": null,
      "left": null,
      "margin": null,
      "max_height": null,
      "max_width": null,
      "min_height": null,
      "min_width": null,
      "object_fit": null,
      "object_position": null,
      "order": null,
      "overflow": null,
      "overflow_x": null,
      "overflow_y": null,
      "padding": null,
      "right": null,
      "top": null,
      "visibility": null,
      "width": null
     }
    },
    "af2666b27a794bc8ac16e11a4baaf264": {
     "model_module": "@jupyter-widgets/controls",
     "model_module_version": "1.5.0",
     "model_name": "FloatProgressModel",
     "state": {
      "_dom_classes": [],
      "_model_module": "@jupyter-widgets/controls",
      "_model_module_version": "1.5.0",
      "_model_name": "FloatProgressModel",
      "_view_count": null,
      "_view_module": "@jupyter-widgets/controls",
      "_view_module_version": "1.5.0",
      "_view_name": "ProgressView",
      "bar_style": "success",
      "description": "",
      "description_tooltip": null,
      "layout": "IPY_MODEL_b6e3f7053c134994b9cc744cf83a9dbf",
      "max": 3247159078,
      "min": 0,
      "orientation": "horizontal",
      "style": "IPY_MODEL_31fa8938485e4fbca9c7f7adfa640934",
      "value": 3247159078
     }
    },
    "b2b4e2c1b25a4fe799f16e585afd35d3": {
     "model_module": "@jupyter-widgets/base",
     "model_module_version": "1.2.0",
     "model_name": "LayoutModel",
     "state": {
      "_model_module": "@jupyter-widgets/base",
      "_model_module_version": "1.2.0",
      "_model_name": "LayoutModel",
      "_view_count": null,
      "_view_module": "@jupyter-widgets/base",
      "_view_module_version": "1.2.0",
      "_view_name": "LayoutView",
      "align_content": null,
      "align_items": null,
      "align_self": null,
      "border": null,
      "bottom": null,
      "display": null,
      "flex": null,
      "flex_flow": null,
      "grid_area": null,
      "grid_auto_columns": null,
      "grid_auto_flow": null,
      "grid_auto_rows": null,
      "grid_column": null,
      "grid_gap": null,
      "grid_row": null,
      "grid_template_areas": null,
      "grid_template_columns": null,
      "grid_template_rows": null,
      "height": null,
      "justify_content": null,
      "justify_items": null,
      "left": null,
      "margin": null,
      "max_height": null,
      "max_width": null,
      "min_height": null,
      "min_width": null,
      "object_fit": null,
      "object_position": null,
      "order": null,
      "overflow": null,
      "overflow_x": null,
      "overflow_y": null,
      "padding": null,
      "right": null,
      "top": null,
      "visibility": null,
      "width": null
     }
    },
    "b2eb2f325bdb41098cb0927917ab624b": {
     "model_module": "@jupyter-widgets/controls",
     "model_module_version": "1.5.0",
     "model_name": "HBoxModel",
     "state": {
      "_dom_classes": [],
      "_model_module": "@jupyter-widgets/controls",
      "_model_module_version": "1.5.0",
      "_model_name": "HBoxModel",
      "_view_count": null,
      "_view_module": "@jupyter-widgets/controls",
      "_view_module_version": "1.5.0",
      "_view_name": "HBoxView",
      "box_style": "",
      "children": [
       "IPY_MODEL_8178493bb9c64a88bdca8a57c2cb244d",
       "IPY_MODEL_7a3b5f9d0a374bc39d0584e938e627dd",
       "IPY_MODEL_452b3a1c8360497b862bfe31f515187d"
      ],
      "layout": "IPY_MODEL_a96cc450c02e4492bd59c90310e92e97"
     }
    },
    "b6781e138a2f49b6974620916971a7b8": {
     "model_module": "@jupyter-widgets/base",
     "model_module_version": "1.2.0",
     "model_name": "LayoutModel",
     "state": {
      "_model_module": "@jupyter-widgets/base",
      "_model_module_version": "1.2.0",
      "_model_name": "LayoutModel",
      "_view_count": null,
      "_view_module": "@jupyter-widgets/base",
      "_view_module_version": "1.2.0",
      "_view_name": "LayoutView",
      "align_content": null,
      "align_items": null,
      "align_self": null,
      "border": null,
      "bottom": null,
      "display": null,
      "flex": null,
      "flex_flow": null,
      "grid_area": null,
      "grid_auto_columns": null,
      "grid_auto_flow": null,
      "grid_auto_rows": null,
      "grid_column": null,
      "grid_gap": null,
      "grid_row": null,
      "grid_template_areas": null,
      "grid_template_columns": null,
      "grid_template_rows": null,
      "height": null,
      "justify_content": null,
      "justify_items": null,
      "left": null,
      "margin": null,
      "max_height": null,
      "max_width": null,
      "min_height": null,
      "min_width": null,
      "object_fit": null,
      "object_position": null,
      "order": null,
      "overflow": null,
      "overflow_x": null,
      "overflow_y": null,
      "padding": null,
      "right": null,
      "top": null,
      "visibility": null,
      "width": null
     }
    },
    "b6e3f7053c134994b9cc744cf83a9dbf": {
     "model_module": "@jupyter-widgets/base",
     "model_module_version": "1.2.0",
     "model_name": "LayoutModel",
     "state": {
      "_model_module": "@jupyter-widgets/base",
      "_model_module_version": "1.2.0",
      "_model_name": "LayoutModel",
      "_view_count": null,
      "_view_module": "@jupyter-widgets/base",
      "_view_module_version": "1.2.0",
      "_view_name": "LayoutView",
      "align_content": null,
      "align_items": null,
      "align_self": null,
      "border": null,
      "bottom": null,
      "display": null,
      "flex": null,
      "flex_flow": null,
      "grid_area": null,
      "grid_auto_columns": null,
      "grid_auto_flow": null,
      "grid_auto_rows": null,
      "grid_column": null,
      "grid_gap": null,
      "grid_row": null,
      "grid_template_areas": null,
      "grid_template_columns": null,
      "grid_template_rows": null,
      "height": null,
      "justify_content": null,
      "justify_items": null,
      "left": null,
      "margin": null,
      "max_height": null,
      "max_width": null,
      "min_height": null,
      "min_width": null,
      "object_fit": null,
      "object_position": null,
      "order": null,
      "overflow": null,
      "overflow_x": null,
      "overflow_y": null,
      "padding": null,
      "right": null,
      "top": null,
      "visibility": null,
      "width": null
     }
    },
    "bb575971b2a649c38641d821d9e7e6fa": {
     "model_module": "@jupyter-widgets/controls",
     "model_module_version": "1.5.0",
     "model_name": "HTMLModel",
     "state": {
      "_dom_classes": [],
      "_model_module": "@jupyter-widgets/controls",
      "_model_module_version": "1.5.0",
      "_model_name": "HTMLModel",
      "_view_count": null,
      "_view_module": "@jupyter-widgets/controls",
      "_view_module_version": "1.5.0",
      "_view_name": "HTMLView",
      "description": "",
      "description_tooltip": null,
      "layout": "IPY_MODEL_b2b4e2c1b25a4fe799f16e585afd35d3",
      "placeholder": "​",
      "style": "IPY_MODEL_3045545379db42eaa4f5e87d3b233f3f",
      "value": " 124/124 [00:00&lt;00:00, 9.44kB/s]"
     }
    },
    "bbbc5df61a1c44208851f392972a353d": {
     "model_module": "@jupyter-widgets/controls",
     "model_module_version": "1.5.0",
     "model_name": "ProgressStyleModel",
     "state": {
      "_model_module": "@jupyter-widgets/controls",
      "_model_module_version": "1.5.0",
      "_model_name": "ProgressStyleModel",
      "_view_count": null,
      "_view_module": "@jupyter-widgets/base",
      "_view_module_version": "1.2.0",
      "_view_name": "StyleView",
      "bar_color": null,
      "description_width": ""
     }
    },
    "be05c066a0be4597aefe9bfe7fe82fd2": {
     "model_module": "@jupyter-widgets/base",
     "model_module_version": "1.2.0",
     "model_name": "LayoutModel",
     "state": {
      "_model_module": "@jupyter-widgets/base",
      "_model_module_version": "1.2.0",
      "_model_name": "LayoutModel",
      "_view_count": null,
      "_view_module": "@jupyter-widgets/base",
      "_view_module_version": "1.2.0",
      "_view_name": "LayoutView",
      "align_content": null,
      "align_items": null,
      "align_self": null,
      "border": null,
      "bottom": null,
      "display": null,
      "flex": null,
      "flex_flow": null,
      "grid_area": null,
      "grid_auto_columns": null,
      "grid_auto_flow": null,
      "grid_auto_rows": null,
      "grid_column": null,
      "grid_gap": null,
      "grid_row": null,
      "grid_template_areas": null,
      "grid_template_columns": null,
      "grid_template_rows": null,
      "height": null,
      "justify_content": null,
      "justify_items": null,
      "left": null,
      "margin": null,
      "max_height": null,
      "max_width": null,
      "min_height": null,
      "min_width": null,
      "object_fit": null,
      "object_position": null,
      "order": null,
      "overflow": null,
      "overflow_x": null,
      "overflow_y": null,
      "padding": null,
      "right": null,
      "top": null,
      "visibility": null,
      "width": null
     }
    },
    "c932d50ef2cf4ac8a0c1b87956d44566": {
     "model_module": "@jupyter-widgets/base",
     "model_module_version": "1.2.0",
     "model_name": "LayoutModel",
     "state": {
      "_model_module": "@jupyter-widgets/base",
      "_model_module_version": "1.2.0",
      "_model_name": "LayoutModel",
      "_view_count": null,
      "_view_module": "@jupyter-widgets/base",
      "_view_module_version": "1.2.0",
      "_view_name": "LayoutView",
      "align_content": null,
      "align_items": null,
      "align_self": null,
      "border": null,
      "bottom": null,
      "display": null,
      "flex": null,
      "flex_flow": null,
      "grid_area": null,
      "grid_auto_columns": null,
      "grid_auto_flow": null,
      "grid_auto_rows": null,
      "grid_column": null,
      "grid_gap": null,
      "grid_row": null,
      "grid_template_areas": null,
      "grid_template_columns": null,
      "grid_template_rows": null,
      "height": null,
      "justify_content": null,
      "justify_items": null,
      "left": null,
      "margin": null,
      "max_height": null,
      "max_width": null,
      "min_height": null,
      "min_width": null,
      "object_fit": null,
      "object_position": null,
      "order": null,
      "overflow": null,
      "overflow_x": null,
      "overflow_y": null,
      "padding": null,
      "right": null,
      "top": null,
      "visibility": null,
      "width": null
     }
    },
    "cddbe971cfb64ff0bcff2adc248048c3": {
     "model_module": "@jupyter-widgets/controls",
     "model_module_version": "1.5.0",
     "model_name": "ProgressStyleModel",
     "state": {
      "_model_module": "@jupyter-widgets/controls",
      "_model_module_version": "1.5.0",
      "_model_name": "ProgressStyleModel",
      "_view_count": null,
      "_view_module": "@jupyter-widgets/base",
      "_view_module_version": "1.2.0",
      "_view_name": "StyleView",
      "bar_color": null,
      "description_width": ""
     }
    },
    "dbd9691d4b8e4114be6100c1ec820b8e": {
     "model_module": "@jupyter-widgets/controls",
     "model_module_version": "1.5.0",
     "model_name": "FloatProgressModel",
     "state": {
      "_dom_classes": [],
      "_model_module": "@jupyter-widgets/controls",
      "_model_module_version": "1.5.0",
      "_model_name": "FloatProgressModel",
      "_view_count": null,
      "_view_module": "@jupyter-widgets/controls",
      "_view_module_version": "1.5.0",
      "_view_name": "ProgressView",
      "bar_style": "success",
      "description": "",
      "description_tooltip": null,
      "layout": "IPY_MODEL_0721c8813b714bd49d2f77ee377de79c",
      "max": 124,
      "min": 0,
      "orientation": "horizontal",
      "style": "IPY_MODEL_93105ef40b1e4559b478baad596c4b7e",
      "value": 124
     }
    },
    "e3a8dc4b941c47f3bc7c39fcf1823268": {
     "model_module": "@jupyter-widgets/controls",
     "model_module_version": "1.5.0",
     "model_name": "HBoxModel",
     "state": {
      "_dom_classes": [],
      "_model_module": "@jupyter-widgets/controls",
      "_model_module_version": "1.5.0",
      "_model_name": "HBoxModel",
      "_view_count": null,
      "_view_module": "@jupyter-widgets/controls",
      "_view_module_version": "1.5.0",
      "_view_name": "HBoxView",
      "box_style": "",
      "children": [
       "IPY_MODEL_6593d44bee58439891e9f1ec761c4d47",
       "IPY_MODEL_1d26e8fecd8d4e879dbea021f3149738",
       "IPY_MODEL_e77f3ac47edc4bccb6bf4d17971fa0db"
      ],
      "layout": "IPY_MODEL_ada820ed4f3742adaade7b15f5070038"
     }
    },
    "e77f3ac47edc4bccb6bf4d17971fa0db": {
     "model_module": "@jupyter-widgets/controls",
     "model_module_version": "1.5.0",
     "model_name": "HTMLModel",
     "state": {
      "_dom_classes": [],
      "_model_module": "@jupyter-widgets/controls",
      "_model_module_version": "1.5.0",
      "_model_name": "HTMLModel",
      "_view_count": null,
      "_view_module": "@jupyter-widgets/controls",
      "_view_module_version": "1.5.0",
      "_view_name": "HTMLView",
      "description": "",
      "description_tooltip": null,
      "layout": "IPY_MODEL_b6781e138a2f49b6974620916971a7b8",
      "placeholder": "​",
      "style": "IPY_MODEL_4bf6883dd2aa4634b89dfa1043866f95",
      "value": " 666/666 [00:00&lt;00:00, 42.2kB/s]"
     }
    },
    "f1240760b5794092817a8941ac688c6a": {
     "model_module": "@jupyter-widgets/base",
     "model_module_version": "1.2.0",
     "model_name": "LayoutModel",
     "state": {
      "_model_module": "@jupyter-widgets/base",
      "_model_module_version": "1.2.0",
      "_model_name": "LayoutModel",
      "_view_count": null,
      "_view_module": "@jupyter-widgets/base",
      "_view_module_version": "1.2.0",
      "_view_name": "LayoutView",
      "align_content": null,
      "align_items": null,
      "align_self": null,
      "border": null,
      "bottom": null,
      "display": null,
      "flex": null,
      "flex_flow": null,
      "grid_area": null,
      "grid_auto_columns": null,
      "grid_auto_flow": null,
      "grid_auto_rows": null,
      "grid_column": null,
      "grid_gap": null,
      "grid_row": null,
      "grid_template_areas": null,
      "grid_template_columns": null,
      "grid_template_rows": null,
      "height": null,
      "justify_content": null,
      "justify_items": null,
      "left": null,
      "margin": null,
      "max_height": null,
      "max_width": null,
      "min_height": null,
      "min_width": null,
      "object_fit": null,
      "object_position": null,
      "order": null,
      "overflow": null,
      "overflow_x": null,
      "overflow_y": null,
      "padding": null,
      "right": null,
      "top": null,
      "visibility": null,
      "width": null
     }
    },
    "f778690d991147088429be5375c3edd1": {
     "model_module": "@jupyter-widgets/controls",
     "model_module_version": "1.5.0",
     "model_name": "HTMLModel",
     "state": {
      "_dom_classes": [],
      "_model_module": "@jupyter-widgets/controls",
      "_model_module_version": "1.5.0",
      "_model_name": "HTMLModel",
      "_view_count": null,
      "_view_module": "@jupyter-widgets/controls",
      "_view_module_version": "1.5.0",
      "_view_name": "HTMLView",
      "description": "",
      "description_tooltip": null,
      "layout": "IPY_MODEL_56193de2695742a1b0143bf174b7c893",
      "placeholder": "​",
      "style": "IPY_MODEL_7f7950fab117480ab80906d86b3cc97b",
      "value": "generation_config.json: 100%"
     }
    }
   }
  }
 },
 "nbformat": 4,
 "nbformat_minor": 1
}
